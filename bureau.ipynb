{
 "cells": [
  {
   "cell_type": "code",
   "execution_count": null,
   "id": "205db74d",
   "metadata": {},
   "outputs": [],
   "source": [
    "import pandas as pd\n",
    "import numpy as np\n",
    "\n",
    "import matplotlib\n",
    "import matplotlib.pyplot as plt\n",
    "%matplotlib inline\n",
    "\n",
    "import seaborn as sns\n",
    "color = sns.color_palette()\n",
    "\n",
    "import plotly.offline as py\n",
    "py.init_notebook_mode(connected=True)\n",
    "from plotly.offline import init_notebook_mode, iplot\n",
    "init_notebook_mode(connected=True)\n",
    "\n",
    "import plotly.graph_objs as go\n",
    "import plotly.offline as offline\n",
    "offline.init_notebook_mode()\n"
   ]
  },
  {
   "cell_type": "code",
   "execution_count": null,
   "id": "90274196",
   "metadata": {},
   "outputs": [],
   "source": [
    "bureau=pd.read_csv(\"C:/Users/詹柏廷/Downloads/homecredit/bureau.csv\")\n",
    "bureau"
   ]
  },
  {
   "cell_type": "code",
   "execution_count": null,
   "id": "4e4d47b6",
   "metadata": {},
   "outputs": [],
   "source": [
    "bureau.shape\n",
    "print('bureau共有 {:,} 列。{:,} 欄。總計 {:,} 筆資料。'.format(bureau.shape[0],bureau.shape[1],bureau.size))"
   ]
  },
  {
   "cell_type": "code",
   "execution_count": null,
   "id": "c1177ed5",
   "metadata": {},
   "outputs": [],
   "source": [
    "def bureau_info(data):\n",
    "    \n",
    "    #＊要改columns檔名\n",
    "    data_shape=pd.DataFrame([data.shape[0],data.shape[1],data.size],index=['Row','Column','Total Data'],columns=['bureau'])\n",
    "    data_type_counts=pd.DataFrame(data.dtypes.value_counts(),columns=['bureau'])\n",
    "    data_shape_df=data_shape.append(data_type_counts)\n",
    "    print(data_shape_df)\n",
    "    \n",
    "    #a欄位型態\n",
    "    data_type=data.dtypes\n",
    "    \n",
    "    #b差異值數量\n",
    "    uniques_num=data.apply(lambda x:x.unique().shape[0],axis=0)\n",
    "    \n",
    "    #c空值比例\n",
    "    total = data.isnull().sum().sort_values(ascending = False)\n",
    "    percent = (data.isnull().sum()/data.isnull().count()*100).sort_values(ascending = False)\n",
    "    \n",
    "    columns_data=pd.concat([data_type,uniques_num,total, percent], axis=1, keys=['Type','Uniques_Num','Missing_Total', 'Missing_Percent'],sort=False)\n",
    "    return columns_data\n",
    "    \n",
    "bureau_info(bureau)"
   ]
  },
  {
   "cell_type": "code",
   "execution_count": null,
   "id": "2885007b",
   "metadata": {},
   "outputs": [],
   "source": [
    "bureau_object = bureau.columns[bureau.dtypes == 'object']\n",
    "pd.DataFrame(bureau_object,columns=['類別型欄位'])"
   ]
  },
  {
   "cell_type": "code",
   "execution_count": null,
   "id": "58a8f22e",
   "metadata": {},
   "outputs": [],
   "source": [
    "np.unique(bureau['CREDIT_ACTIVE'])"
   ]
  },
  {
   "cell_type": "code",
   "execution_count": null,
   "id": "abcb3458",
   "metadata": {},
   "outputs": [],
   "source": [
    "def CREDIT_ACTIVE_data(data):\n",
    "    total = bureau['CREDIT_ACTIVE'].value_counts()\n",
    "    percent = (bureau['CREDIT_ACTIVE'].value_counts()/ bureau['CREDIT_ACTIVE'].value_counts().sum()*100).sort_values(ascending = False)\n",
    "    print('CREDIT_ACTIVE data')\n",
    "    return pd.concat([total, percent], axis=1, keys=['Total', 'Percent'])\n",
    "CREDIT_ACTIVE_data(bureau)"
   ]
  },
  {
   "cell_type": "code",
   "execution_count": null,
   "id": "da8bdcf3",
   "metadata": {},
   "outputs": [],
   "source": [
    "np.unique(bureau['CREDIT_CURRENCY'])"
   ]
  },
  {
   "cell_type": "code",
   "execution_count": null,
   "id": "eb2f54ea",
   "metadata": {},
   "outputs": [],
   "source": [
    "def CREDIT_CURRENCY_data(data):\n",
    "    total = bureau['CREDIT_CURRENCY'].value_counts()\n",
    "    percent = (bureau['CREDIT_CURRENCY'].value_counts()/ bureau['CREDIT_CURRENCY'].value_counts().sum()*100).sort_values(ascending = False)\n",
    "    print('CREDIT_CURRENCY data')\n",
    "    return pd.concat([total, percent], axis=1, keys=['Total', 'Percent'])\n",
    "CREDIT_CURRENCY_data(bureau)"
   ]
  },
  {
   "cell_type": "code",
   "execution_count": null,
   "id": "5c82033e",
   "metadata": {},
   "outputs": [],
   "source": [
    "np.unique(bureau['CREDIT_TYPE'])"
   ]
  },
  {
   "cell_type": "code",
   "execution_count": null,
   "id": "274f2070",
   "metadata": {},
   "outputs": [],
   "source": [
    "def CREDIT_TYPE_data(data):\n",
    "    total = bureau['CREDIT_TYPE'].value_counts()\n",
    "    percent = (bureau['CREDIT_TYPE'].value_counts()/ bureau['CREDIT_TYPE'].value_counts().sum()*100).sort_values(ascending = False)\n",
    "    print('CREDIT_TYPE data')\n",
    "    return pd.concat([total, percent], axis=1, keys=['Total', 'Percent'])\n",
    "CREDIT_TYPE_data(bureau)"
   ]
  },
  {
   "cell_type": "code",
   "execution_count": null,
   "id": "ecf81876",
   "metadata": {},
   "outputs": [],
   "source": [
    "pd.set_option('display.float_format',lambda x : '%.3f' % x)\n",
    "bureau.describe()"
   ]
  },
  {
   "cell_type": "code",
   "execution_count": null,
   "id": "d79062a7",
   "metadata": {},
   "outputs": [],
   "source": [
    "def columns_int64(data):\n",
    "    columns_int64= data.columns[data.dtypes == 'int64']\n",
    "    columns_int64_pd =pd.DataFrame(columns_int64,columns=['整數型欄位'])\n",
    "\n",
    "    unique_int64 = data.select_dtypes(include=['int64']).nunique()\n",
    "    unique_int64_pd=pd.DataFrame(unique_int64,columns=['Unique_Num'])\n",
    "    print('整數型欄位計共 {} 個。'.format(len(data.select_dtypes(include=['int64']).columns)))\n",
    "    print('')\n",
    "    print(pd.merge(columns_int64_pd,unique_int64_pd,left_on='整數型欄位',right_index=True))\n",
    "    \n",
    "    return data.describe()\n",
    "columns_int64(bureau)"
   ]
  },
  {
   "cell_type": "code",
   "execution_count": null,
   "id": "b44e6af6",
   "metadata": {},
   "outputs": [],
   "source": [
    "plt.figure(figsize = (20, 16))\n",
    "#客戶在申請前幾天內申請了信貸局信貸\n",
    "plt.subplot(2,2,1)\n",
    "plt.hist(bureau[\"DAYS_CREDIT\"]);\n",
    "plt.title(\"DAYS_CREDIT\")\n",
    "\n",
    "#在申請相關貸款時，信貸的逾期天數\n",
    "plt.subplot(2,2,2)\n",
    "plt.hist(bureau[\"CREDIT_DAY_OVERDUE\"]);\n",
    "plt.title(\"CREDIT_DAY_OVERDUE\")\n",
    "\n",
    "#信貸延長次數\n",
    "plt.subplot(2,2,3)\n",
    "plt.hist(bureau[\"CNT_CREDIT_PROLONG\"]);\n",
    "plt.title(\"CNT_CREDIT_PROLONG\")\n",
    "\n",
    "#離上次收到貸款訊息幾天了\n",
    "plt.subplot(2,2,4)\n",
    "plt.hist(bureau[\"DAYS_CREDIT_UPDATE\"]);\n",
    "plt.title(\"DAYS_CREDIT_UPDATE\")"
   ]
  },
  {
   "cell_type": "code",
   "execution_count": null,
   "id": "3f0c8497",
   "metadata": {},
   "outputs": [],
   "source": [
    "temp =bureau[\"CNT_CREDIT_PROLONG\"].value_counts()\n",
    "print(temp)"
   ]
  },
  {
   "cell_type": "code",
   "execution_count": null,
   "id": "bfc1ea44",
   "metadata": {},
   "outputs": [],
   "source": [
    "pd.set_option(\"display.max_rows\",None)\n",
    "bureau[bureau[\"SK_ID_CURR\"]==215354].sort_values(by=[\"SK_ID_BUREAU\"])"
   ]
  },
  {
   "cell_type": "code",
   "execution_count": null,
   "id": "ce8ff1ac",
   "metadata": {},
   "outputs": [],
   "source": [
    "def columns_float64(data):\n",
    "    columns_float64= data.columns[data.dtypes == 'float64']\n",
    "    columns_float64_pd =pd.DataFrame(columns_float64,columns=['浮點數型欄位'])\n",
    "\n",
    "    unique_float64 = data.select_dtypes(include=['float64']).nunique()\n",
    "    unique_float64_pd=pd.DataFrame(unique_float64,columns=['Unique_Num'])\n",
    "    print('浮點數型欄位計共 {} 個。'.format(len(data.select_dtypes(include=['float64']).columns)))\n",
    "    print('')\n",
    "    print(pd.merge(columns_float64_pd,unique_float64_pd,left_on='浮點數型欄位',right_index=True))\n",
    "    \n",
    "    return data.describe()\n",
    "columns_float64(bureau)"
   ]
  },
  {
   "cell_type": "code",
   "execution_count": null,
   "id": "90536aa8",
   "metadata": {},
   "outputs": [],
   "source": [
    "plt.figure(figsize = (20, 20))\n",
    "#申請“Home Credit”時，信貸局信貸的剩餘期限\n",
    "plt.subplot(4,2,1)\n",
    "plt.hist(bureau[\"DAYS_CREDIT_ENDDATE\"], bins=100);\n",
    "plt.title(\"DAYS_CREDIT_ENDDATE\")\n",
    "print('DAYS_CREDIT_ENDDATE(申請“Home Credit”時，信貸局信貸的剩餘期限)：資料顯示天數為整數.0，有正負數。異常。')\n",
    "\n",
    "#申請“Home Credit”時，信貸局信貸終止後的天數\n",
    "plt.subplot(4,2,2)\n",
    "plt.hist(bureau[\"DAYS_ENDDATE_FACT\"], bins=100);\n",
    "plt.title(\"DAYS_ENDDATE_FACT\")\n",
    "print('DAYS_ENDDATE_FACT(申請“Home Credit”時，信貸局信貸終止後的天數)：資料顯示天數為整數.0。')\n",
    "\n",
    "#逾期的最大金額\n",
    "plt.subplot(4,2,3)\n",
    "plt.hist(bureau[\"AMT_CREDIT_MAX_OVERDUE\"], bins=100,range=(4.500000e+00 ,1.159872e+08));\n",
    "plt.title(\"AMT_CREDIT_MAX_OVERDUE\")\n",
    "print('AMT_CREDIT_MAX_OVERDUE(逾期的最大金額)：逾期金額為0者最多：470650位，已剔除。')\n",
    "\n",
    "#信貸局信貸的當前信貸金額\n",
    "plt.subplot(4,2,4)\n",
    "plt.hist(bureau[\"AMT_CREDIT_SUM\"], bins=100,range=(1.350000e+04 , 5.850000e+08));\n",
    "plt.title(\"AMT_CREDIT_SUM\")\n",
    "print('AMT_CREDIT_SUM(貸局信貸的當前信貸金額)：金額為0者最多：66582位，已剔除。')\n",
    "\n",
    "\n",
    "#信貸局信貸的流動負債\n",
    "plt.subplot(4,2,5)\n",
    "plt.hist(bureau[\"AMT_CREDIT_SUM_DEBT\"], bins=200,range= (4.500000e+00, 1.701000e+08));\n",
    "plt.title(\"AMT_CREDIT_SUM_DEBT\")\n",
    "print('AMT_CREDIT_SUM_DEBT(信貸局信貸的流動負債)：金額為0者最多： 1016434位，已剔除。有正負數-4.500000e+02：543位。異常。')\n",
    "\n",
    "         \n",
    "#當前的信用卡額度\n",
    "plt.subplot(4,2,6)\n",
    "plt.hist(bureau[\"AMT_CREDIT_SUM_LIMIT\"] , bins=200,range= (4.500,4.705600e+06));\n",
    "plt.title(\"AMT_CREDIT_SUM_LIMIT\")\n",
    "print('AMT_CREDIT_SUM_LIMIT(當前的信用卡額度)：金額為0者最多：1050142 位，已剔除。')\n",
    "\n",
    "#當前逾期金額\n",
    "plt.subplot(4,2,7)\n",
    "plt.hist(bureau[\"AMT_CREDIT_SUM_OVERDUE\"], bins=200,range= (4.500,3.756681e+06));\n",
    "plt.title(\"AMT_CREDIT_SUM_OVERDUE\")\n",
    "print('AMT_CREDIT_SUM_OVERDUE(當前逾期金額)：金額為0者最多： 1712270位，已剔除。')\n",
    "\n",
    "#先前申請的年金，約定每年要償還的金額\n",
    "plt.subplot(4,2,8)\n",
    "plt.hist(bureau[\"AMT_ANNUITY\"], bins=200,range= (1.350000e+03,1.184534e+08));\n",
    "plt.title(\"AMT_ANNUITY\")\n",
    "print('AMT_ANNUITY(先前申請的年金，約定每年要償還的金額)：金額為0者最多：256915 位，已剔除。')\n"
   ]
  },
  {
   "cell_type": "code",
   "execution_count": null,
   "id": "bfed19a8",
   "metadata": {},
   "outputs": [],
   "source": [
    "bureau[\"DAYS_CREDIT_ENDDATE\"].describe()"
   ]
  },
  {
   "cell_type": "code",
   "execution_count": null,
   "id": "61c63da2",
   "metadata": {},
   "outputs": [],
   "source": [
    "bureau[\"DAYS_ENDDATE_FACT\"].describe()"
   ]
  },
  {
   "cell_type": "code",
   "execution_count": null,
   "id": "55b6867a",
   "metadata": {},
   "outputs": [],
   "source": [
    "bureau[\"AMT_CREDIT_MAX_OVERDUE\"].describe()"
   ]
  },
  {
   "cell_type": "code",
   "execution_count": null,
   "id": "b1611065",
   "metadata": {},
   "outputs": [],
   "source": [
    "bureau[\"AMT_CREDIT_SUM\"].describe()"
   ]
  },
  {
   "cell_type": "code",
   "execution_count": null,
   "id": "b31c3fac",
   "metadata": {},
   "outputs": [],
   "source": [
    "bureau[\"AMT_CREDIT_SUM_DEBT\"].describe()"
   ]
  },
  {
   "cell_type": "code",
   "execution_count": null,
   "id": "aa0a2783",
   "metadata": {},
   "outputs": [],
   "source": [
    "bureau[\"AMT_CREDIT_SUM_LIMIT\"].describe()"
   ]
  },
  {
   "cell_type": "code",
   "execution_count": null,
   "id": "1affeb3f",
   "metadata": {},
   "outputs": [],
   "source": [
    "bureau[\"AMT_CREDIT_SUM_OVERDUE\"].describe()"
   ]
  },
  {
   "cell_type": "code",
   "execution_count": null,
   "id": "bc0cd9d7",
   "metadata": {},
   "outputs": [],
   "source": [
    "bureau[\"AMT_ANNUITY\"].describe()"
   ]
  },
  {
   "cell_type": "code",
   "execution_count": null,
   "id": "be8c55dd",
   "metadata": {},
   "outputs": [],
   "source": [
    "temp=bureau[\"AMT_ANNUITY\"].value_counts()\n",
    "print('前20筆')\n",
    "print(temp.head(10))\n",
    "\n",
    "print()\n",
    "print('後20筆')\n",
    "print(temp.tail(10))"
   ]
  },
  {
   "cell_type": "code",
   "execution_count": null,
   "id": "40eb6430",
   "metadata": {},
   "outputs": [],
   "source": [
    "bureau.corr()"
   ]
  },
  {
   "cell_type": "code",
   "execution_count": null,
   "id": "3233e031",
   "metadata": {},
   "outputs": [],
   "source": [
    "plt.figure(figsize=(20,20),dpi=200)\n",
    "sns.heatmap(np.abs(bureau.corr()),cmap=\"Blues\",\n",
    "           vmin=0,\n",
    "          vmax=1,\n",
    "         square=True,\n",
    "           annot=True)\n",
    "#plt.show()"
   ]
  },
  {
   "cell_type": "code",
   "execution_count": null,
   "id": "3835c324",
   "metadata": {},
   "outputs": [],
   "source": [
    "pd.set_option(\"display.max_rows\",None)\n",
    "bureau[bureau[\"SK_ID_CURR\"]==215354].sort_values(by=[\"SK_ID_BUREAU\"])"
   ]
  },
  {
   "cell_type": "code",
   "execution_count": null,
   "id": "3c839cc0",
   "metadata": {},
   "outputs": [],
   "source": [
    "#CREDIT_DAY_OVERDUE相關係數\n",
    "kind_of_bureau_corr_CREDIT_DAY_OVERDUE = bureau[['SK_ID_CURR','SK_ID_BUREAU','CREDIT_DAY_OVERDUE','DAYS_CREDIT','DAYS_ENDDATE_FACT',]].corr()\n",
    "kind_of_bureau_corr_CREDIT_DAY_OVERDUE"
   ]
  },
  {
   "cell_type": "code",
   "execution_count": null,
   "id": "cf07de2c",
   "metadata": {},
   "outputs": [],
   "source": [
    "#bureau.groupby('SK_ID_CURR').aggregate({'AMT_CREDIT_SUM':max,'AMT_CREDIT_SUM_DEBT':max}).head()\n",
    "\n",
    "#SK_ID_BUREAU==5715448，在bureau_balance-MONTHS_BALANCE==0,STATUS==C,但在bureau:CREDIT_ACTIVE==Active\n",
    "#所以bureau_balance：STATUS==C,不一定代表是全部結清\n",
    "#bureau[bureau[\"SK_ID_BUREAU\"]==5715448].sort_values(by=[\"SK_ID_BUREAU\"])\n",
    "\n",
    "#1079273筆bureau[\"CREDIT_ACTIVE\"]=='Closed']\n",
    "#bureau[bureau[\"CREDIT_ACTIVE\"]=='Closed'].sort_values(by=[\"SK_ID_CURR\"]).shape[0]\n",
    "#bureau[bureau[\"CREDIT_ACTIVE\"]=='Closed'].sort_values(by=[\"SK_ID_CURR\"]).head(15)\n",
    "\n",
    "bureau.loc[(bureau[\"CREDIT_ACTIVE\"]=='Closed') & (bureau['AMT_CREDIT_SUM_OVERDUE']>0),\n",
    "           ('SK_ID_CURR','SK_ID_BUREAU','CREDIT_ACTIVE','CREDIT_DAY_OVERDUE','AMT_CREDIT_MAX_OVERDUE','AMT_CREDIT_SUM','AMT_CREDIT_SUM_OVERDUE','AMT_ANNUITY')].head(10)\n",
    "\n"
   ]
  },
  {
   "cell_type": "code",
   "execution_count": null,
   "id": "c92c91e9",
   "metadata": {},
   "outputs": [],
   "source": [
    "#4217筆在申請貸款時，信貸局信貸的逾期天數>0\n",
    "#bureau.loc[(bureau['CREDIT_DAY_OVERDUE']>0)].shape[0]\n",
    "#bureau.loc[(bureau['CREDIT_DAY_OVERDUE']>0)].head(10)\n",
    "#4158筆信貸局貸款紀錄的逾期金額\n",
    "#bureau.loc[(bureau['AMT_CREDIT_SUM_OVERDUE']>0)].shape[0]\n",
    "#bureau.loc[(bureau['AMT_CREDIT_SUM_OVERDUE']>0)].head(10)\n",
    "\n",
    "#3911筆在申請貸款時，信貸局信貸的逾期天數>0 & 有信貸局貸款紀錄的逾期金額\n",
    "#bureau.loc[(bureau['CREDIT_DAY_OVERDUE']>0) & (bureau['AMT_CREDIT_SUM_OVERDUE']>0)].shape[0]\n",
    "bureau.loc[(bureau['CREDIT_DAY_OVERDUE']>0) & (bureau['AMT_CREDIT_SUM_OVERDUE']>0),\n",
    "           ('SK_ID_CURR','SK_ID_BUREAU','CREDIT_ACTIVE','CREDIT_DAY_OVERDUE','AMT_CREDIT_MAX_OVERDUE','AMT_CREDIT_SUM','AMT_CREDIT_SUM_OVERDUE','AMT_ANNUITY')].head(10)\n",
    "\n",
    "#247筆在申請貸款時，信貸局信貸的逾期天數==0 & 有信貸局貸款紀錄的逾期金額 -->有異\n",
    "#bureau.loc[(bureau['CREDIT_DAY_OVERDUE']==0) & (bureau['AMT_CREDIT_SUM_OVERDUE']>0)].shape[0]\n",
    "#bureau.loc[(bureau['CREDIT_DAY_OVERDUE']==0) & (bureau['AMT_CREDIT_SUM_OVERDUE']>0),\n",
    "#            ('SK_ID_CURR','SK_ID_BUREAU','CREDIT_ACTIVE','CREDIT_DAY_OVERDUE','AMT_CREDIT_MAX_OVERDUE','AMT_CREDIT_SUM','AMT_CREDIT_SUM_OVERDUE','AMT_ANNUITY')].head(60)\n",
    "\n",
    "\n",
    "\n",
    "\n",
    "#bureau[['SK_ID_CURR','SK_ID_BUREAU','CREDIT_ACTIVE','CREDIT_DAY_OVERDUE','AMT_CREDIT_MAX_OVERDUE','AMT_CREDIT_SUM_OVERDUE']].head(50)"
   ]
  },
  {
   "cell_type": "code",
   "execution_count": null,
   "id": "1943f427",
   "metadata": {},
   "outputs": [],
   "source": [
    "kind_of_bureau_corr = bureau[['SK_ID_CURR','SK_ID_BUREAU','DAYS_CREDIT','DAYS_ENDDATE_FACT']].corr()\n",
    "kind_of_bureau_corr "
   ]
  },
  {
   "cell_type": "code",
   "execution_count": null,
   "id": "bbaa2161",
   "metadata": {},
   "outputs": [],
   "source": [
    "bureau[['SK_ID_CURR','SK_ID_BUREAU','CREDIT_ACTIVE','DAYS_CREDIT','DAYS_ENDDATE_FACT','DAYS_CREDIT_UPDATE']].head()"
   ]
  },
  {
   "cell_type": "code",
   "execution_count": null,
   "id": "dbad9155",
   "metadata": {},
   "outputs": [],
   "source": [
    "#3840筆信貸局貸款紀錄延長了多少次>0 & 信貸局貸款紀錄的逾期金額>0\n",
    "#bureau.loc[(bureau['CNT_CREDIT_PROLONG']>0) & (bureau['AMT_CREDIT_MAX_OVERDUE']>0)].shape[0]\n",
    "#bureau.loc[(bureau['CNT_CREDIT_PROLONG']>0) & (bureau['AMT_CREDIT_MAX_OVERDUE']>0)].head(15)\n",
    "\n",
    "#Sold共6527筆，\n",
    "#25筆信貸局貸款紀錄延長了多少次>0 & 信貸局貸款紀錄的逾期金額>0\n",
    "#670筆信貸局貸款紀錄延長了多少次=0 & 信貸局貸款紀錄的逾期金額>0\n",
    "#815筆信貸局貸款紀錄延長了多少次=0 & 信貸局貸款紀錄的逾期金額=0\n",
    "#bureau.loc[(bureau['CREDIT_ACTIVE']=='Sold') &(bureau['CNT_CREDIT_PROLONG']==0) & (bureau['AMT_CREDIT_MAX_OVERDUE']<0)].shape[0] \n",
    "#bureau.loc[(bureau['CREDIT_ACTIVE']=='Sold') & (bureau['AMT_CREDIT_MAX_OVERDUE']>0)].shape[0]\n",
    "#bureau.loc[(bureau['CREDIT_ACTIVE']=='Sold') & (bureau['AMT_CREDIT_MAX_OVERDUE']>0)].head(10)\n",
    "#2665筆Sold & 信貸局貸款紀錄的負債==0\n",
    "#289筆Sold & 信貸局貸款紀錄的負債>0\n",
    "#3573筆Sold & 信貸局貸款紀錄的負債==isnull\n",
    "#bureau.loc[(bureau['CREDIT_ACTIVE']=='Sold') & (bureau['AMT_CREDIT_SUM_DEBT'].isnull())].shape[0]\n",
    "#257669筆信貸局貸款紀錄的負債==isnull\n",
    "bureau.loc[(bureau['AMT_CREDIT_SUM_DEBT'].isnull())].shape[0]\n",
    "\n",
    "\n",
    "#121290筆逾期的最大金額\n",
    "#bureau.loc[(bureau['AMT_CREDIT_MAX_OVERDUE']>0)].shape\n",
    "#4158筆信貸局貸款紀錄的逾期金額>0。1712270筆信貸局貸款紀錄的逾期金額=0--->正確\n",
    "#4126筆有信貸局貸款紀錄的逾期金額>0者\n",
    "#bureau.loc[(bureau['AMT_CREDIT_SUM_OVERDUE']>0)].shape\n",
    "#bureau.loc[(bureau['AMT_CREDIT_SUM_OVERDUE']>0)].head(15)\n",
    "#bureau.loc[(bureau['CNT_CREDIT_PROLONG']>0)].head(15)\n",
    "\n",
    "#4126筆有信貸局貸款紀錄的逾期金額>0者，CNT_CREDIT_PROLONG(信貸局貸款紀錄延長了多少次)為0\n",
    "#bureau.loc[(bureau['AMT_CREDIT_SUM_OVERDUE']>0)&(bureau['CNT_CREDIT_PROLONG']==0)].shape[0]\n",
    "#32筆有信貸局貸款紀錄的逾期金額>0者，CNT_CREDIT_PROLONG(信貸局貸款紀錄延長了多少次)>0\n",
    "#與train-target比對8筆有違約（1筆重複ID)，24筆無違約\n",
    "#bureau.loc[(bureau['AMT_CREDIT_SUM_OVERDUE']>0)&(bureau['CNT_CREDIT_PROLONG']>0)].shape[0]\n",
    "bureau.loc[(bureau['AMT_CREDIT_SUM_OVERDUE']>0)&(bureau['CNT_CREDIT_PROLONG']>0),\n",
    "            ('SK_ID_CURR','SK_ID_BUREAU','CREDIT_ACTIVE','CREDIT_DAY_OVERDUE','AMT_CREDIT_SUM_OVERDUE','CNT_CREDIT_PROLONG')].head(60)\n",
    "          \n",
    "#bureau.loc[(bureau['AMT_CREDIT_SUM_OVERDUE']>0)&(bureau['CNT_CREDIT_PROLONG']<0)].shape[0]    #0-->正確"
   ]
  },
  {
   "cell_type": "code",
   "execution_count": null,
   "id": "100e6733",
   "metadata": {},
   "outputs": [],
   "source": [
    "#1090108\n",
    "\n",
    "#有1079273筆['CREDIT_ACTIVE']=='Closed & ['DAYS_CREDIT'信貸局信貸與申請貸款差了幾天]<=0\n",
    "#bureau.loc[(bureau['CREDIT_ACTIVE']=='Closed') & (bureau['DAYS_CREDIT']<=0)].shape[0] \n",
    "#bureau.loc[(bureau['CREDIT_ACTIVE']=='Closed') & (bureau['DAYS_CREDIT']<=0)].head(20)\n",
    "#有0筆['CREDIT_ACTIVE']=='Closed & ['DAYS_CREDIT'信貸局信貸與申請貸款差了幾天]<=0-->正確\n",
    "#bureau.loc[(bureau['CREDIT_ACTIVE']=='Closed') & (bureau['DAYS_CREDIT']>0)].shape[0] \n",
    "\n",
    "\n",
    "bureau.loc[(bureau['CREDIT_ACTIVE']=='Active') & (bureau['DAYS_ENDDATE_FACT'].isnull())].head(20)\n",
    "#bureau.loc[(bureau['DAYS_CREDIT']==0)].head(20)"
   ]
  },
  {
   "cell_type": "code",
   "execution_count": null,
   "id": "510e7e93",
   "metadata": {},
   "outputs": [],
   "source": [
    "pd.set_option(\"display.max_rows\",None)\n",
    "bureau[bureau[\"SK_ID_CURR\"]==215354].sort_values(by=[\"SK_ID_BUREAU\"])"
   ]
  },
  {
   "cell_type": "code",
   "execution_count": null,
   "id": "005efae2",
   "metadata": {},
   "outputs": [],
   "source": [
    "bureau[bureau['CREDIT_ACTIVE']!='Closed']['AMT_CREDIT_SUM_DEBT'].hist(bins=100,log=True)"
   ]
  },
  {
   "cell_type": "code",
   "execution_count": null,
   "id": "4781caa6",
   "metadata": {},
   "outputs": [],
   "source": [
    "bureau['DAYS_CREDIT_UPDATE'].hist(bins=100,log=True)"
   ]
  },
  {
   "cell_type": "code",
   "execution_count": null,
   "id": "8dbd48d8",
   "metadata": {},
   "outputs": [],
   "source": [
    "plt.figure(figsize=(10,6))\n",
    "bureau[bureau['DAYS_CREDIT_ENDDATE']<0]['DAYS_CREDIT_ENDDATE'].hist(bins=200,log=True)"
   ]
  },
  {
   "cell_type": "code",
   "execution_count": null,
   "id": "9bc3cce2",
   "metadata": {},
   "outputs": [],
   "source": [
    "bureau.groupby('CREDIT_ACTIVE')['CREDIT_DAY_OVERDUE'].describe().sort_values(by='count',ascending=False)"
   ]
  },
  {
   "cell_type": "code",
   "execution_count": null,
   "id": "6f5a872f",
   "metadata": {},
   "outputs": [],
   "source": [
    "bureau.loc[bureau['CREDIT_DAY_OVERDUE']!=0] # 逾期天數不等於0的有4217筆"
   ]
  },
  {
   "cell_type": "code",
   "execution_count": null,
   "id": "dd8d6363",
   "metadata": {},
   "outputs": [],
   "source": [
    "bureau.loc[(bureau['CREDIT_DAY_OVERDUE']!=0) & (bureau['CREDIT_ACTIVE']=='Closed')] # 已經Closed的還有逾期天數？"
   ]
  },
  {
   "cell_type": "code",
   "execution_count": null,
   "id": "b1824e44",
   "metadata": {},
   "outputs": [],
   "source": [
    "bureau.loc[bureau['SK_ID_CURR']==282297] # 試著解釋一個人的狀況"
   ]
  },
  {
   "cell_type": "code",
   "execution_count": null,
   "id": "35a5e948",
   "metadata": {},
   "outputs": [],
   "source": [
    "(bureau['DAYS_CREDIT']-bureau['CREDIT_DAY_OVERDUE']).dropna()"
   ]
  },
  {
   "cell_type": "code",
   "execution_count": null,
   "id": "528f7643",
   "metadata": {},
   "outputs": [],
   "source": [
    "((bureau['DAYS_CREDIT']-bureau['CREDIT_DAY_OVERDUE']).dropna()<=0).sum()/1716428 # 檢查是否逾期天數皆小於DAYS_CREDIT"
   ]
  },
  {
   "cell_type": "code",
   "execution_count": null,
   "id": "7b3d0314",
   "metadata": {},
   "outputs": [],
   "source": [
    "bureau.loc[(bureau['CREDIT_ACTIVE']=='Active') & (bureau['DAYS_CREDIT_ENDDATE']<0)] # EndDate意義不明，跟CREDIT_ACTIVE似乎沒有關係\n",
    "# 從DAYS_CREDIT_ENDDATE看已經結束的貸款，狀態還是Active？"
   ]
  },
  {
   "cell_type": "code",
   "execution_count": null,
   "id": "c27cbbe2",
   "metadata": {},
   "outputs": [],
   "source": [
    "bureau.groupby('CREDIT_ACTIVE')['DAYS_ENDDATE_FACT'].describe() \n",
    "# Active的count跟上表不一樣？\n",
    "## 依說明文件，'DAYS_ENDDATE_FACT'(貸款已結束幾天)應只有在Closed的狀況下有值，建議將Active狀態下的此欄都改為na(數目不多)"
   ]
  },
  {
   "cell_type": "code",
   "execution_count": null,
   "id": "9a856f14",
   "metadata": {},
   "outputs": [],
   "source": [
    "(bureau['DAYS_CREDIT']-bureau['DAYS_CREDIT_ENDDATE']).dropna()"
   ]
  },
  {
   "cell_type": "code",
   "execution_count": null,
   "id": "ea62f8ab",
   "metadata": {},
   "outputs": [],
   "source": [
    "((bureau['DAYS_CREDIT']-bureau['DAYS_CREDIT_ENDDATE']).dropna()<=0).sum()/1610875\n",
    " # 檢查貸款結束天數與DAYS_CREDIT的關係。DAYS_CREDIT為CB貸款的開始日，應該都要比DAYS_CREDIT_ENDDATE(CB貸款結束日來得小)"
   ]
  },
  {
   "cell_type": "code",
   "execution_count": null,
   "id": "ad725ff3",
   "metadata": {},
   "outputs": [],
   "source": [
    "bureau.loc[(bureau['DAYS_CREDIT'])>(bureau['DAYS_CREDIT_ENDDATE'])] # 檢查貸款結束天數與DAYS_CREDIT的關係，異常狀況，大小的關係很怪；如要使用DAYS_CREDIT_ENDDATE，建議將這幾筆刪除"
   ]
  },
  {
   "cell_type": "code",
   "execution_count": null,
   "id": "cc003ea0",
   "metadata": {},
   "outputs": [],
   "source": [
    "bureau.loc[(bureau['AMT_CREDIT_SUM_DEBT']==0) & (bureau['CREDIT_ACTIVE']=='Active')]\n",
    "# 負債欄位意義不明，無負債應該貸款就會Close"
   ]
  },
  {
   "cell_type": "code",
   "execution_count": null,
   "id": "8ace35ff",
   "metadata": {},
   "outputs": [],
   "source": [
    "bureau.loc[(bureau['AMT_CREDIT_SUM_DEBT']>0)]['SK_ID_CURR'].unique().shape # 多數人都有負債"
   ]
  },
  {
   "cell_type": "code",
   "execution_count": null,
   "id": "16feaf66",
   "metadata": {},
   "outputs": [],
   "source": [
    "bureau.loc[(bureau['AMT_CREDIT_SUM_OVERDUE']!=0) & (bureau['CREDIT_ACTIVE']=='Closed'),\n",
    "           ('CREDIT_ACTIVE','CREDIT_DAY_OVERDUE','DAYS_CREDIT_ENDDATE','AMT_CREDIT_MAX_OVERDUE','AMT_CREDIT_SUM_OVERDUE')] # 有錢還沒還，但已經Closed是怎麼回事"
   ]
  },
  {
   "cell_type": "code",
   "execution_count": null,
   "id": "a3f677f1",
   "metadata": {},
   "outputs": [],
   "source": [
    "bureau['AMT_CREDIT_SUM_LIMIT'].describe()  # 34%的信用卡額度為na，同一人可以有值的信用卡額度平均作為代表"
   ]
  },
  {
   "cell_type": "code",
   "execution_count": null,
   "id": "70c84f05",
   "metadata": {},
   "outputs": [],
   "source": [
    "bureau.loc[(bureau['AMT_CREDIT_SUM_LIMIT']>0) & (bureau['CREDIT_TYPE']!='Credit card')].shape[0] # 有信用卡額度數字的紀錄中，36筆的貸款非信用卡"
   ]
  },
  {
   "cell_type": "code",
   "execution_count": null,
   "id": "f231d78a",
   "metadata": {},
   "outputs": [],
   "source": [
    "bureau.loc[(bureau['AMT_CREDIT_SUM_LIMIT']>0) & (bureau['CREDIT_TYPE']=='Credit card')].shape[0] # 有信用卡額度數字的紀錄中，大部分的貸款為信用卡"
   ]
  },
  {
   "cell_type": "code",
   "execution_count": null,
   "id": "7f5812a9",
   "metadata": {},
   "outputs": [],
   "source": [
    "bureau.loc[(bureau['CREDIT_TYPE']=='Credit card')].shape[0] # 信用卡貸款共402195筆"
   ]
  },
  {
   "cell_type": "code",
   "execution_count": null,
   "id": "8c4a1350",
   "metadata": {},
   "outputs": [],
   "source": [
    "for name in bureau.columns:\n",
    "    print('\\n')\n",
    "    print(f'{name}欄')\n",
    "    if np.dtype(bureau[name])=='O' :\n",
    "        print(bureau[name].unique())\n",
    "    print(bureau[name].unique().shape)"
   ]
  },
  {
   "cell_type": "code",
   "execution_count": null,
   "id": "f84c36bc",
   "metadata": {},
   "outputs": [],
   "source": [
    "assert bureau.apply(lambda x: x.unique().shape[0])['SK_ID_BUREAU'] == bureau.shape[0] # 確認是否每列SK_ID_BUREAU都不同\n",
    "(bureau.apply(lambda x: x.unique().shape[0])/bureau.shape[0]).plot(kind='bar',rot=80)"
   ]
  },
  {
   "cell_type": "code",
   "execution_count": null,
   "id": "3178629b",
   "metadata": {},
   "outputs": [],
   "source": [
    "plt.hist(bureau['CREDIT_CURRENCY'], alpha=0.5,\n",
    "        histtype='stepfilled', color='steelblue',\n",
    "        edgecolor='none',log=True,);"
   ]
  },
  {
   "cell_type": "code",
   "execution_count": null,
   "id": "d86ac5b8",
   "metadata": {},
   "outputs": [],
   "source": [
    "plt.hist(bureau['DAYS_CREDIT'], bins=30, alpha=0.5,\n",
    "        histtype='stepfilled', color='steelblue',\n",
    "        edgecolor='none');"
   ]
  },
  {
   "cell_type": "code",
   "execution_count": null,
   "id": "d19652b8",
   "metadata": {},
   "outputs": [],
   "source": [
    "plt.hist(bureau['CREDIT_DAY_OVERDUE'], bins=30, alpha=0.5,\n",
    "        histtype='stepfilled', color='steelblue',\n",
    "        edgecolor='none',log=True);"
   ]
  },
  {
   "cell_type": "code",
   "execution_count": null,
   "id": "b2664762",
   "metadata": {},
   "outputs": [],
   "source": [
    "plt.hist(bureau['DAYS_CREDIT_ENDDATE'], bins=100, alpha=0.5,\n",
    "        histtype='stepfilled', color='steelblue',\n",
    "        edgecolor='none',log=True); "
   ]
  },
  {
   "cell_type": "code",
   "execution_count": null,
   "id": "d946e67f",
   "metadata": {},
   "outputs": [],
   "source": [
    "plt.hist(bureau['DAYS_ENDDATE_FACT'], bins=100, alpha=0.5,\n",
    "        histtype='stepfilled', color='steelblue',\n",
    "        edgecolor='none',log=True); "
   ]
  },
  {
   "cell_type": "code",
   "execution_count": null,
   "id": "4b28ea4e",
   "metadata": {},
   "outputs": [],
   "source": [
    "plt.hist(bureau['AMT_CREDIT_MAX_OVERDUE'], bins=100, alpha=0.5,\n",
    "        histtype='stepfilled', color='steelblue',\n",
    "        edgecolor='none',log=True); "
   ]
  },
  {
   "cell_type": "code",
   "execution_count": null,
   "id": "1db14ef7",
   "metadata": {},
   "outputs": [],
   "source": [
    "plt.hist(bureau['CNT_CREDIT_PROLONG'], alpha=0.5,\n",
    "        histtype='stepfilled', color='steelblue',\n",
    "        edgecolor='none',log=True);"
   ]
  },
  {
   "cell_type": "code",
   "execution_count": null,
   "id": "1aeb50a1",
   "metadata": {},
   "outputs": [],
   "source": [
    "plt.hist(bureau['AMT_CREDIT_SUM'], bins=500, alpha=0.5,\n",
    "        histtype='stepfilled', color='steelblue',\n",
    "        edgecolor='none',range=(1,1000000)); # 似乎有異常值"
   ]
  },
  {
   "cell_type": "code",
   "execution_count": null,
   "id": "9a54799e",
   "metadata": {},
   "outputs": [],
   "source": [
    "plt.hist(bureau['AMT_CREDIT_SUM_DEBT'], alpha=0.5,\n",
    "        histtype='stepfilled', color='steelblue',\n",
    "        edgecolor='none',log=True);"
   ]
  },
  {
   "cell_type": "code",
   "execution_count": null,
   "id": "7999c66c",
   "metadata": {},
   "outputs": [],
   "source": [
    "plt.hist(bureau['AMT_CREDIT_SUM_LIMIT'], alpha=0.5,\n",
    "        histtype='stepfilled', color='steelblue',\n",
    "        edgecolor='none',log=True);"
   ]
  },
  {
   "cell_type": "code",
   "execution_count": null,
   "id": "e4256276",
   "metadata": {},
   "outputs": [],
   "source": [
    "plt.hist(bureau['AMT_CREDIT_SUM_OVERDUE'], alpha=0.5,\n",
    "        histtype='stepfilled', color='steelblue',\n",
    "        edgecolor='none',log=True);"
   ]
  },
  {
   "cell_type": "code",
   "execution_count": null,
   "id": "7d40d135",
   "metadata": {},
   "outputs": [],
   "source": [
    "plt.hist(bureau['CREDIT_TYPE'], density=True, alpha=0.5,\n",
    "        histtype='stepfilled', color='steelblue',\n",
    "        edgecolor='none',log=True,);"
   ]
  },
  {
   "cell_type": "code",
   "execution_count": null,
   "id": "066f93b5",
   "metadata": {},
   "outputs": [],
   "source": [
    "bureau.groupby('CREDIT_TYPE')['CREDIT_TYPE'].describe().sort_values(by='count',ascending=False)"
   ]
  },
  {
   "cell_type": "code",
   "execution_count": null,
   "id": "65c03b83",
   "metadata": {},
   "outputs": [],
   "source": [
    "plt.hist(bureau['DAYS_CREDIT_UPDATE'], bins=100,  alpha=0.5,\n",
    "        histtype='stepfilled', color='steelblue',\n",
    "        edgecolor='none',log=True,);"
   ]
  },
  {
   "cell_type": "code",
   "execution_count": null,
   "id": "beee1fff",
   "metadata": {},
   "outputs": [],
   "source": [
    "plt.hist(bureau['AMT_ANNUITY'], bins=100, alpha=0.5,\n",
    "        histtype='stepfilled', color='steelblue',\n",
    "        edgecolor='none',log=True,);"
   ]
  },
  {
   "cell_type": "code",
   "execution_count": null,
   "id": "15bb764a",
   "metadata": {},
   "outputs": [],
   "source": []
  }
 ],
 "metadata": {
  "kernelspec": {
   "display_name": "Python 3 (ipykernel)",
   "language": "python",
   "name": "python3"
  },
  "language_info": {
   "codemirror_mode": {
    "name": "ipython",
    "version": 3
   },
   "file_extension": ".py",
   "mimetype": "text/x-python",
   "name": "python",
   "nbconvert_exporter": "python",
   "pygments_lexer": "ipython3",
   "version": "3.9.16"
  }
 },
 "nbformat": 4,
 "nbformat_minor": 5
}
