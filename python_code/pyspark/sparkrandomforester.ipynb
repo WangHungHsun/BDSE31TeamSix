{
 "cells": [
  {
   "cell_type": "code",
   "execution_count": 4,
   "id": "d6dfbf71",
   "metadata": {},
   "outputs": [],
   "source": [
    "from pyspark.sql import SparkSession\n",
    "from pyspark.ml.feature import OneHotEncoder, StringIndexer, VectorAssembler,StandardScaler, MinMaxScaler\n",
    "from pyspark.ml.evaluation import RegressionEvaluator\n",
    "from pyspark.sql.functions import col,when,regexp_replace,rand\n",
    "from pyspark.sql.types import IntegerType\n",
    "from pyspark.mllib.regression import LabeledPoint\n",
    "from pyspark.ml.classification import GBTClassifier\n",
    "from pyspark.ml import Pipeline\n",
    "from pyspark.ml.evaluation import BinaryClassificationEvaluator\n",
    "from pyspark.ml.tuning import ParamGridBuilder, CrossValidator\n",
    "from pyspark.ml.regression import RandomForestRegressor\n",
    "\n",
    "import time\n",
    "import datetime\n",
    "import numpy as np\n",
    "import pandas as pd\n",
    "\n",
    "# Create a SparkSession\n",
    "spark = SparkSession.builder \\\n",
    "    .appName(\"RandomForesterSpark\") \\\n",
    "    .getOrCreate()\n",
    "\n",
    "df = spark.read.option(\"header\", \"true\").option(\"index\", False).csv(\"D:/project/homecredit/final/v3/final_all_onehotencoding_v3.csv\")\n",
    "\n",
    "df = df.drop('_c0','SK_ID_CURR')\n",
    "\n",
    "all_columns = df.columns\n",
    "\n",
    "\n",
    "columns_to_convert = all_columns\n",
    "\n",
    "for column in columns_to_convert:\n",
    "    df = df.withColumn(column, col(column).cast(IntegerType()))\n",
    "\n",
    "df= df.fillna(0)\n",
    "df= df.drop('_c0','SK_ID_CURR')"
   ]
  },
  {
   "cell_type": "code",
   "execution_count": 7,
   "id": "9e5351c6",
   "metadata": {},
   "outputs": [],
   "source": [
    "train_df, test_df = df.randomSplit([0.7,0.3])\n",
    "feature_columns =  df.columns\n",
    "feature_columns.remove(\"TARGET\")\n",
    "\n",
    "# Assemble the features into a single \"features\" column\n",
    "assembler = VectorAssembler(inputCols=feature_columns, outputCol=\"features\")\n",
    "train_df = assembler.transform(train_df)\n",
    "test_df = assembler.transform(test_df)\n",
    "\n"
   ]
  },
  {
   "cell_type": "code",
   "execution_count": 8,
   "id": "dd7743ab",
   "metadata": {},
   "outputs": [
    {
     "name": "stdout",
     "output_type": "stream",
     "text": [
      "AUC: 0.6756616522465627\n"
     ]
    }
   ],
   "source": [
    "rd = RandomForestRegressor(\n",
    "    maxDepth=5,\n",
    "    featuresCol=\"features\",\n",
    "    labelCol=\"TARGET\"\n",
    ")\n",
    "\n",
    "# Fit the GBTClassifier model to the training data\n",
    "model = rd.fit(train_df)\n",
    "\n",
    "# Make predictions on the validation set\n",
    "prediction = model.transform(test_df)\n",
    "\n",
    "# Evaluate the model's performance on the validation set\n",
    "evaluator = BinaryClassificationEvaluator(\n",
    "    rawPredictionCol = \"prediction\",\n",
    "    labelCol=\"TARGET\",\n",
    "    metricName=\"areaUnderROC\")\n",
    "\n",
    "print(f'AUC: {evaluator.evaluate(prediction)}')\n",
    "\n",
    "\n",
    "spark.stop()\n"
   ]
  }
 ],
 "metadata": {
  "kernelspec": {
   "display_name": "Python 3 (ipykernel)",
   "language": "python",
   "name": "python3"
  },
  "language_info": {
   "codemirror_mode": {
    "name": "ipython",
    "version": 3
   },
   "file_extension": ".py",
   "mimetype": "text/x-python",
   "name": "python",
   "nbconvert_exporter": "python",
   "pygments_lexer": "ipython3",
   "version": "3.9.16"
  },
  "toc": {
   "base_numbering": 1,
   "nav_menu": {},
   "number_sections": true,
   "sideBar": true,
   "skip_h1_title": false,
   "title_cell": "Table of Contents",
   "title_sidebar": "Contents",
   "toc_cell": false,
   "toc_position": {},
   "toc_section_display": true,
   "toc_window_display": false
  }
 },
 "nbformat": 4,
 "nbformat_minor": 5
}
