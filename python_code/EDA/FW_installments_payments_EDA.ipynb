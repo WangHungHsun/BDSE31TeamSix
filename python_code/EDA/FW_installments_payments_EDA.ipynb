{
 "cells": [
  {
   "cell_type": "code",
   "execution_count": 1,
   "metadata": {},
   "outputs": [],
   "source": [
    "import numpy as np \n",
    "import pandas as pd \n",
    "import seaborn as sns\n",
    "import matplotlib.pyplot as plt"
   ]
  },
  {
   "cell_type": "code",
   "execution_count": 2,
   "metadata": {},
   "outputs": [],
   "source": [
    "application_train = pd.read_csv('../../../../homecredit/application_train.csv')\n",
    "# POS= pd.read_csv(\"../../../../homecredit/POS_CASH_balance.csv\")\n",
    "# previous_application = pd.read_csv(\"../../../homecredit/previous_application.csv\")\n",
    "# credit_card_balance= pd.read_csv(\"../../../homecredit/credit_card_balance.csv\")\n",
    "installments = pd.read_csv(\"../../../../homecredit/installments_payments.csv\")"
   ]
  },
  {
   "cell_type": "markdown",
   "metadata": {},
   "source": [
    "##### \"Home credit\"提供每位客戶的\"每筆\"貸款分期資料\n",
    "##### 一個人可能有多筆貸款資料(1個SK_ID_CURR可能有多筆不同的SK_ID_PREV)\n",
    "##### 貸款版本、合約分幾期、當期貸款應繳日期(距今多少天前)、當期貸款入帳日期(距今多少天前)、當期貸款應繳金額、當期貸款入帳金額"
   ]
  },
  {
   "cell_type": "code",
   "execution_count": 3,
   "metadata": {},
   "outputs": [
    {
     "data": {
      "text/html": [
       "<div>\n",
       "<style scoped>\n",
       "    .dataframe tbody tr th:only-of-type {\n",
       "        vertical-align: middle;\n",
       "    }\n",
       "\n",
       "    .dataframe tbody tr th {\n",
       "        vertical-align: top;\n",
       "    }\n",
       "\n",
       "    .dataframe thead th {\n",
       "        text-align: right;\n",
       "    }\n",
       "</style>\n",
       "<table border=\"1\" class=\"dataframe\">\n",
       "  <thead>\n",
       "    <tr style=\"text-align: right;\">\n",
       "      <th></th>\n",
       "      <th>SK_ID_PREV</th>\n",
       "      <th>SK_ID_CURR</th>\n",
       "      <th>NUM_INSTALMENT_VERSION</th>\n",
       "      <th>NUM_INSTALMENT_NUMBER</th>\n",
       "      <th>DAYS_INSTALMENT</th>\n",
       "      <th>DAYS_ENTRY_PAYMENT</th>\n",
       "      <th>AMT_INSTALMENT</th>\n",
       "      <th>AMT_PAYMENT</th>\n",
       "    </tr>\n",
       "  </thead>\n",
       "  <tbody>\n",
       "    <tr>\n",
       "      <th>1478621</th>\n",
       "      <td>1369693</td>\n",
       "      <td>100001</td>\n",
       "      <td>1.0</td>\n",
       "      <td>1</td>\n",
       "      <td>-1709.0</td>\n",
       "      <td>-1715.0</td>\n",
       "      <td>3951.000</td>\n",
       "      <td>3951.000</td>\n",
       "    </tr>\n",
       "    <tr>\n",
       "      <th>2568722</th>\n",
       "      <td>1369693</td>\n",
       "      <td>100001</td>\n",
       "      <td>1.0</td>\n",
       "      <td>2</td>\n",
       "      <td>-1679.0</td>\n",
       "      <td>-1715.0</td>\n",
       "      <td>3951.000</td>\n",
       "      <td>3951.000</td>\n",
       "    </tr>\n",
       "    <tr>\n",
       "      <th>2624024</th>\n",
       "      <td>1369693</td>\n",
       "      <td>100001</td>\n",
       "      <td>2.0</td>\n",
       "      <td>4</td>\n",
       "      <td>-1619.0</td>\n",
       "      <td>-1628.0</td>\n",
       "      <td>17397.900</td>\n",
       "      <td>17397.900</td>\n",
       "    </tr>\n",
       "    <tr>\n",
       "      <th>3458712</th>\n",
       "      <td>1369693</td>\n",
       "      <td>100001</td>\n",
       "      <td>1.0</td>\n",
       "      <td>3</td>\n",
       "      <td>-1649.0</td>\n",
       "      <td>-1660.0</td>\n",
       "      <td>3951.000</td>\n",
       "      <td>3951.000</td>\n",
       "    </tr>\n",
       "    <tr>\n",
       "      <th>1761012</th>\n",
       "      <td>1851984</td>\n",
       "      <td>100001</td>\n",
       "      <td>1.0</td>\n",
       "      <td>2</td>\n",
       "      <td>-2916.0</td>\n",
       "      <td>-2916.0</td>\n",
       "      <td>3982.050</td>\n",
       "      <td>3982.050</td>\n",
       "    </tr>\n",
       "    <tr>\n",
       "      <th>...</th>\n",
       "      <td>...</td>\n",
       "      <td>...</td>\n",
       "      <td>...</td>\n",
       "      <td>...</td>\n",
       "      <td>...</td>\n",
       "      <td>...</td>\n",
       "      <td>...</td>\n",
       "      <td>...</td>\n",
       "    </tr>\n",
       "    <tr>\n",
       "      <th>13582873</th>\n",
       "      <td>2631384</td>\n",
       "      <td>456255</td>\n",
       "      <td>3.0</td>\n",
       "      <td>12</td>\n",
       "      <td>-426.0</td>\n",
       "      <td>-435.0</td>\n",
       "      <td>27489.690</td>\n",
       "      <td>27489.690</td>\n",
       "    </tr>\n",
       "    <tr>\n",
       "      <th>13599889</th>\n",
       "      <td>2631384</td>\n",
       "      <td>456255</td>\n",
       "      <td>3.0</td>\n",
       "      <td>9</td>\n",
       "      <td>-516.0</td>\n",
       "      <td>-523.0</td>\n",
       "      <td>27489.690</td>\n",
       "      <td>27489.690</td>\n",
       "    </tr>\n",
       "    <tr>\n",
       "      <th>12075210</th>\n",
       "      <td>2729207</td>\n",
       "      <td>456255</td>\n",
       "      <td>2.0</td>\n",
       "      <td>3</td>\n",
       "      <td>-409.0</td>\n",
       "      <td>-435.0</td>\n",
       "      <td>42754.230</td>\n",
       "      <td>42754.230</td>\n",
       "    </tr>\n",
       "    <tr>\n",
       "      <th>12300604</th>\n",
       "      <td>2729207</td>\n",
       "      <td>456255</td>\n",
       "      <td>1.0</td>\n",
       "      <td>1</td>\n",
       "      <td>-469.0</td>\n",
       "      <td>-482.0</td>\n",
       "      <td>11514.555</td>\n",
       "      <td>11514.555</td>\n",
       "    </tr>\n",
       "    <tr>\n",
       "      <th>12567314</th>\n",
       "      <td>2729207</td>\n",
       "      <td>456255</td>\n",
       "      <td>1.0</td>\n",
       "      <td>2</td>\n",
       "      <td>-439.0</td>\n",
       "      <td>-455.0</td>\n",
       "      <td>11514.555</td>\n",
       "      <td>11514.555</td>\n",
       "    </tr>\n",
       "  </tbody>\n",
       "</table>\n",
       "<p>13605401 rows × 8 columns</p>\n",
       "</div>"
      ],
      "text/plain": [
       "          SK_ID_PREV  SK_ID_CURR  NUM_INSTALMENT_VERSION  \\\n",
       "1478621      1369693      100001                     1.0   \n",
       "2568722      1369693      100001                     1.0   \n",
       "2624024      1369693      100001                     2.0   \n",
       "3458712      1369693      100001                     1.0   \n",
       "1761012      1851984      100001                     1.0   \n",
       "...              ...         ...                     ...   \n",
       "13582873     2631384      456255                     3.0   \n",
       "13599889     2631384      456255                     3.0   \n",
       "12075210     2729207      456255                     2.0   \n",
       "12300604     2729207      456255                     1.0   \n",
       "12567314     2729207      456255                     1.0   \n",
       "\n",
       "          NUM_INSTALMENT_NUMBER  DAYS_INSTALMENT  DAYS_ENTRY_PAYMENT  \\\n",
       "1478621                       1          -1709.0             -1715.0   \n",
       "2568722                       2          -1679.0             -1715.0   \n",
       "2624024                       4          -1619.0             -1628.0   \n",
       "3458712                       3          -1649.0             -1660.0   \n",
       "1761012                       2          -2916.0             -2916.0   \n",
       "...                         ...              ...                 ...   \n",
       "13582873                     12           -426.0              -435.0   \n",
       "13599889                      9           -516.0              -523.0   \n",
       "12075210                      3           -409.0              -435.0   \n",
       "12300604                      1           -469.0              -482.0   \n",
       "12567314                      2           -439.0              -455.0   \n",
       "\n",
       "          AMT_INSTALMENT  AMT_PAYMENT  \n",
       "1478621         3951.000     3951.000  \n",
       "2568722         3951.000     3951.000  \n",
       "2624024        17397.900    17397.900  \n",
       "3458712         3951.000     3951.000  \n",
       "1761012         3982.050     3982.050  \n",
       "...                  ...          ...  \n",
       "13582873       27489.690    27489.690  \n",
       "13599889       27489.690    27489.690  \n",
       "12075210       42754.230    42754.230  \n",
       "12300604       11514.555    11514.555  \n",
       "12567314       11514.555    11514.555  \n",
       "\n",
       "[13605401 rows x 8 columns]"
      ]
     },
     "execution_count": 3,
     "metadata": {},
     "output_type": "execute_result"
    }
   ],
   "source": [
    "installments = installments.sort_values(by=['SK_ID_CURR','SK_ID_PREV']) \n",
    "installments"
   ]
  },
  {
   "cell_type": "code",
   "execution_count": 4,
   "metadata": {},
   "outputs": [
    {
     "data": {
      "text/plain": [
       "<Axes: ylabel='Frequency'>"
      ]
     },
     "execution_count": 4,
     "metadata": {},
     "output_type": "execute_result"
    },
    {
     "data": {
      "image/png": "[encoded data removed]",
      "text/plain": [
       "<Figure size 640x480 with 1 Axes>"
      ]
     },
     "metadata": {},
     "output_type": "display_data"
    }
   ],
   "source": [
    "#overdue_DAY 正數為遲繳(天數)，負數為提前繳(天數)\n",
    "overdue_DAY = installments.DAYS_ENTRY_PAYMENT - installments.DAYS_INSTALMENT\n",
    "overdue_DAY.plot.hist(range=(-100,50))\n",
    "#大部分繳款天數都提前30天內繳(合理)"
   ]
  },
  {
   "cell_type": "code",
   "execution_count": 5,
   "metadata": {},
   "outputs": [
    {
     "data": {
      "text/plain": [
       "0.013185719406579784"
      ]
     },
     "execution_count": 5,
     "metadata": {},
     "output_type": "execute_result"
    },
    {
     "data": {
      "image/png": "[encoded data removed]",
      "text/plain": [
       "<Figure size 640x480 with 1 Axes>"
      ]
     },
     "metadata": {},
     "output_type": "display_data"
    }
   ],
   "source": [
    "#overdue_AMT 正數表示多繳，負數表示少繳\n",
    "overdue_AMT = installments.AMT_PAYMENT -installments.AMT_INSTALMENT\n",
    "overdue_AMT.plot.hist(range=(-100000,50000))\n",
    "(overdue_AMT>0).sum()/overdue_AMT.shape[0]\n",
    "#竟然有期數多繳款，但總共179397筆，佔總筆數1.3%"
   ]
  },
  {
   "cell_type": "code",
   "execution_count": 19,
   "metadata": {},
   "outputs": [
    {
     "data": {
      "text/plain": [
       "Index(['SK_ID_PREV', 'NUM_INSTALMENT_VERSION', 'NUM_INSTALMENT_NUMBER',\n",
       "       'DAYS_INSTALMENT', 'DAYS_ENTRY_PAYMENT', 'AMT_INSTALMENT',\n",
       "       'AMT_PAYMENT', 'overdue_day', 'overdue_AMT'],\n",
       "      dtype='object')"
      ]
     },
     "execution_count": 19,
     "metadata": {},
     "output_type": "execute_result"
    }
   ],
   "source": [
    "#合併到indstalments表格\n",
    "installments['overdue_day'] = overdue_DAY\n",
    "installments['overdue_AMT'] = overdue_AMT\n",
    "installments = installments.groupby(\"SK_ID_CURR\").mean()\n",
    "installments.columns"
   ]
  },
  {
   "cell_type": "markdown",
   "metadata": {},
   "source": []
  },
  {
   "cell_type": "markdown",
   "metadata": {},
   "source": []
  }
 ],
 "metadata": {
  "kernelspec": {
   "display_name": "Python39",
   "language": "python",
   "name": "python3"
  },
  "language_info": {
   "codemirror_mode": {
    "name": "ipython",
    "version": 3
   },
   "file_extension": ".py",
   "mimetype": "text/x-python",
   "name": "python",
   "nbconvert_exporter": "python",
   "pygments_lexer": "ipython3",
   "version": "3.9.16"
  },
  "orig_nbformat": 4
 },
 "nbformat": 4,
 "nbformat_minor": 2
}
