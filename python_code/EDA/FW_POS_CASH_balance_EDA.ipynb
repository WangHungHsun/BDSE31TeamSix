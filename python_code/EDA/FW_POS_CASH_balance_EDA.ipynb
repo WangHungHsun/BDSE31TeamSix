{
 "cells": [
  {
   "cell_type": "code",
   "execution_count": 2,
   "metadata": {},
   "outputs": [],
   "source": [
    "import numpy as np \n",
    "import pandas as pd \n",
    "import seaborn as sns\n",
    "import matplotlib.pyplot as plt"
   ]
  },
  {
   "cell_type": "code",
   "execution_count": 3,
   "metadata": {},
   "outputs": [],
   "source": [
    "application_train = pd.read_csv('../../../../homecredit/application_train.csv')\n",
    "POS= pd.read_csv(\"../../../../homecredit/POS_CASH_balance.csv\")\n",
    "# previous_application = pd.read_csv(\"../../../homecredit/previous_application.csv\")\n",
    "# credit_card_balance= pd.read_csv(\"../../../homecredit/credit_card_balance.csv\")\n",
    "# installments_payments = pd.read_csv(\"../../../homecredit/installments_payments.csv\")"
   ]
  },
  {
   "cell_type": "markdown",
   "metadata": {},
   "source": [
    "##### \"Home credit\"提供每位客戶的\"每筆\"小額與現金貸款資料\n",
    "##### 一個人可能有多筆貸款資料(1個SK_ID_CURR可能有多筆不同的SK_ID_PREV)\n",
    "##### 相對於申請日期的月份、合約分幾期、還剩幾期、當月合約狀態、逾期天數"
   ]
  },
  {
   "cell_type": "code",
   "execution_count": 4,
   "metadata": {},
   "outputs": [
    {
     "data": {
      "text/html": [
       "<div>\n",
       "<style scoped>\n",
       "    .dataframe tbody tr th:only-of-type {\n",
       "        vertical-align: middle;\n",
       "    }\n",
       "\n",
       "    .dataframe tbody tr th {\n",
       "        vertical-align: top;\n",
       "    }\n",
       "\n",
       "    .dataframe thead th {\n",
       "        text-align: right;\n",
       "    }\n",
       "</style>\n",
       "<table border=\"1\" class=\"dataframe\">\n",
       "  <thead>\n",
       "    <tr style=\"text-align: right;\">\n",
       "      <th></th>\n",
       "      <th>SK_ID_PREV</th>\n",
       "      <th>SK_ID_CURR</th>\n",
       "      <th>MONTHS_BALANCE</th>\n",
       "      <th>CNT_INSTALMENT</th>\n",
       "      <th>CNT_INSTALMENT_FUTURE</th>\n",
       "      <th>NAME_CONTRACT_STATUS</th>\n",
       "      <th>SK_DPD</th>\n",
       "      <th>SK_DPD_DEF</th>\n",
       "    </tr>\n",
       "  </thead>\n",
       "  <tbody>\n",
       "    <tr>\n",
       "      <th>2197888</th>\n",
       "      <td>1369693</td>\n",
       "      <td>100001</td>\n",
       "      <td>-53</td>\n",
       "      <td>4.0</td>\n",
       "      <td>0.0</td>\n",
       "      <td>Completed</td>\n",
       "      <td>0</td>\n",
       "      <td>0</td>\n",
       "    </tr>\n",
       "    <tr>\n",
       "      <th>4704415</th>\n",
       "      <td>1369693</td>\n",
       "      <td>100001</td>\n",
       "      <td>-54</td>\n",
       "      <td>4.0</td>\n",
       "      <td>1.0</td>\n",
       "      <td>Active</td>\n",
       "      <td>0</td>\n",
       "      <td>0</td>\n",
       "    </tr>\n",
       "    <tr>\n",
       "      <th>7167007</th>\n",
       "      <td>1369693</td>\n",
       "      <td>100001</td>\n",
       "      <td>-57</td>\n",
       "      <td>4.0</td>\n",
       "      <td>4.0</td>\n",
       "      <td>Active</td>\n",
       "      <td>0</td>\n",
       "      <td>0</td>\n",
       "    </tr>\n",
       "    <tr>\n",
       "      <th>7823681</th>\n",
       "      <td>1369693</td>\n",
       "      <td>100001</td>\n",
       "      <td>-55</td>\n",
       "      <td>4.0</td>\n",
       "      <td>2.0</td>\n",
       "      <td>Active</td>\n",
       "      <td>0</td>\n",
       "      <td>0</td>\n",
       "    </tr>\n",
       "    <tr>\n",
       "      <th>8789081</th>\n",
       "      <td>1369693</td>\n",
       "      <td>100001</td>\n",
       "      <td>-56</td>\n",
       "      <td>4.0</td>\n",
       "      <td>3.0</td>\n",
       "      <td>Active</td>\n",
       "      <td>0</td>\n",
       "      <td>0</td>\n",
       "    </tr>\n",
       "    <tr>\n",
       "      <th>...</th>\n",
       "      <td>...</td>\n",
       "      <td>...</td>\n",
       "      <td>...</td>\n",
       "      <td>...</td>\n",
       "      <td>...</td>\n",
       "      <td>...</td>\n",
       "      <td>...</td>\n",
       "      <td>...</td>\n",
       "    </tr>\n",
       "    <tr>\n",
       "      <th>6836368</th>\n",
       "      <td>2631384</td>\n",
       "      <td>456255</td>\n",
       "      <td>-21</td>\n",
       "      <td>36.0</td>\n",
       "      <td>31.0</td>\n",
       "      <td>Active</td>\n",
       "      <td>0</td>\n",
       "      <td>0</td>\n",
       "    </tr>\n",
       "    <tr>\n",
       "      <th>573934</th>\n",
       "      <td>2729207</td>\n",
       "      <td>456255</td>\n",
       "      <td>-15</td>\n",
       "      <td>6.0</td>\n",
       "      <td>5.0</td>\n",
       "      <td>Active</td>\n",
       "      <td>0</td>\n",
       "      <td>0</td>\n",
       "    </tr>\n",
       "    <tr>\n",
       "      <th>8159633</th>\n",
       "      <td>2729207</td>\n",
       "      <td>456255</td>\n",
       "      <td>-16</td>\n",
       "      <td>6.0</td>\n",
       "      <td>6.0</td>\n",
       "      <td>Active</td>\n",
       "      <td>0</td>\n",
       "      <td>0</td>\n",
       "    </tr>\n",
       "    <tr>\n",
       "      <th>8514315</th>\n",
       "      <td>2729207</td>\n",
       "      <td>456255</td>\n",
       "      <td>-13</td>\n",
       "      <td>3.0</td>\n",
       "      <td>0.0</td>\n",
       "      <td>Completed</td>\n",
       "      <td>0</td>\n",
       "      <td>0</td>\n",
       "    </tr>\n",
       "    <tr>\n",
       "      <th>8606094</th>\n",
       "      <td>2729207</td>\n",
       "      <td>456255</td>\n",
       "      <td>-14</td>\n",
       "      <td>3.0</td>\n",
       "      <td>0.0</td>\n",
       "      <td>Active</td>\n",
       "      <td>0</td>\n",
       "      <td>0</td>\n",
       "    </tr>\n",
       "  </tbody>\n",
       "</table>\n",
       "<p>10001358 rows × 8 columns</p>\n",
       "</div>"
      ],
      "text/plain": [
       "         SK_ID_PREV  SK_ID_CURR  MONTHS_BALANCE  CNT_INSTALMENT  \\\n",
       "2197888     1369693      100001             -53             4.0   \n",
       "4704415     1369693      100001             -54             4.0   \n",
       "7167007     1369693      100001             -57             4.0   \n",
       "7823681     1369693      100001             -55             4.0   \n",
       "8789081     1369693      100001             -56             4.0   \n",
       "...             ...         ...             ...             ...   \n",
       "6836368     2631384      456255             -21            36.0   \n",
       "573934      2729207      456255             -15             6.0   \n",
       "8159633     2729207      456255             -16             6.0   \n",
       "8514315     2729207      456255             -13             3.0   \n",
       "8606094     2729207      456255             -14             3.0   \n",
       "\n",
       "         CNT_INSTALMENT_FUTURE NAME_CONTRACT_STATUS  SK_DPD  SK_DPD_DEF  \n",
       "2197888                    0.0            Completed       0           0  \n",
       "4704415                    1.0               Active       0           0  \n",
       "7167007                    4.0               Active       0           0  \n",
       "7823681                    2.0               Active       0           0  \n",
       "8789081                    3.0               Active       0           0  \n",
       "...                        ...                  ...     ...         ...  \n",
       "6836368                   31.0               Active       0           0  \n",
       "573934                     5.0               Active       0           0  \n",
       "8159633                    6.0               Active       0           0  \n",
       "8514315                    0.0            Completed       0           0  \n",
       "8606094                    0.0               Active       0           0  \n",
       "\n",
       "[10001358 rows x 8 columns]"
      ]
     },
     "execution_count": 4,
     "metadata": {},
     "output_type": "execute_result"
    }
   ],
   "source": [
    "POS.sort_values(by=['SK_ID_CURR','SK_ID_PREV'])"
   ]
  },
  {
   "cell_type": "code",
   "execution_count": 5,
   "metadata": {},
   "outputs": [
    {
     "data": {
      "text/plain": [
       "SK_ID_PREV               0.000000\n",
       "SK_ID_CURR               0.000000\n",
       "MONTHS_BALANCE           0.000000\n",
       "CNT_INSTALMENT           0.002607\n",
       "CNT_INSTALMENT_FUTURE    0.002608\n",
       "NAME_CONTRACT_STATUS     0.000000\n",
       "SK_DPD                   0.000000\n",
       "SK_DPD_DEF               0.000000\n",
       "dtype: float64"
      ]
     },
     "execution_count": 5,
     "metadata": {},
     "output_type": "execute_result"
    }
   ],
   "source": [
    "#該欄位空值佔總比數幾%\n",
    "POS.isna().sum()/POS.shape[0]"
   ]
  },
  {
   "cell_type": "code",
   "execution_count": 6,
   "metadata": {},
   "outputs": [
    {
     "data": {
      "text/plain": [
       "<Axes: xlabel='CNT_INSTALMENT', ylabel='count'>"
      ]
     },
     "execution_count": 6,
     "metadata": {},
     "output_type": "execute_result"
    },
    {
     "data": {
      "image/png": "[encoded data removed]",
      "text/plain": [
       "<Figure size 1200x700 with 1 Axes>"
      ]
     },
     "metadata": {},
     "output_type": "display_data"
    }
   ],
   "source": [
    "# 申請幾期的分期\n",
    "fig = plt.figure(figsize=(12, 7))\n",
    "plt.subplot(121)\n",
    "sns.countplot(data=POS, x=\"CNT_INSTALMENT\",\n",
    "              order=POS[\"CNT_INSTALMENT\"].value_counts().index[:12], palette=\"colorblind\")\n",
    "#由此可知，POS & CASH都是短期貸款(一年期~兩年期居多)"
   ]
  }
 ],
 "metadata": {
  "kernelspec": {
   "display_name": "Python39",
   "language": "python",
   "name": "python3"
  },
  "language_info": {
   "codemirror_mode": {
    "name": "ipython",
    "version": 3
   },
   "file_extension": ".py",
   "mimetype": "text/x-python",
   "name": "python",
   "nbconvert_exporter": "python",
   "pygments_lexer": "ipython3",
   "version": "3.9.16"
  },
  "orig_nbformat": 4
 },
 "nbformat": 4,
 "nbformat_minor": 2
}
