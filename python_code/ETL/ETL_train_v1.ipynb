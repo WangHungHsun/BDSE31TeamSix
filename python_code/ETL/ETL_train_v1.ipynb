{
 "cells": [
  {
   "cell_type": "code",
   "execution_count": 3,
   "metadata": {},
   "outputs": [],
   "source": [
    "import numpy as np \n",
    "import pandas as pd \n",
    "import seaborn as sns\n",
    "import matplotlib.pyplot as plt"
   ]
  },
  {
   "cell_type": "code",
   "execution_count": 4,
   "metadata": {},
   "outputs": [],
   "source": [
    "# instalments = pd.read_csv(\"../../../../homecredit/installments_payments.csv\")\n",
    "application_train = pd.read_csv('../../../../homecredit/application_train.csv')\n",
    "# pos_cash= pd.read_csv(\"../../../../homecredit/POS_CASH_balance.csv\")\n",
    "# previous_application = pd.read_csv(\"../../../../homecredit/previous_application.csv\")\n",
    "# credit_card_balance= pd.read_csv(\"../../../../homecredit/credit_card_balance.csv\")\n",
    "# bureau_balance= pd.read_csv(\"../../../../homecredit/bureau_balance.csv\")\n",
    "# bureau= pd.read_csv(\"../../../../homecredit/bureau.csv\")"
   ]
  },
  {
   "cell_type": "markdown",
   "metadata": {},
   "source": [
    "# Train"
   ]
  },
  {
   "cell_type": "code",
   "execution_count": 5,
   "metadata": {},
   "outputs": [],
   "source": [
    "# List of columns to drop\n",
    "columns_to_drop = [\n",
    "    'FLAG_MOBIL', 'FLAG_EMP_PHONE', 'FLAG_WORK_PHONE', 'FLAG_CONT_MOBILE', 'FLAG_PHONE','FLAG_EMAIL',\n",
    "    'REG_REGION_NOT_LIVE_REGION', 'REG_REGION_NOT_WORK_REGION', 'LIVE_REGION_NOT_WORK_REGION',\n",
    "    'REG_CITY_NOT_LIVE_CITY', 'REG_CITY_NOT_WORK_CITY', 'LIVE_CITY_NOT_WORK_CITY',\n",
    "    'APARTMENTS_AVG', 'BASEMENTAREA_AVG', 'YEARS_BEGINEXPLUATATION_AVG', 'YEARS_BUILD_AVG',\n",
    "    'COMMONAREA_AVG', 'ELEVATORS_AVG', 'ENTRANCES_AVG', 'FLOORSMAX_AVG', 'FLOORSMIN_AVG',\n",
    "    'LANDAREA_AVG', 'LIVINGAPARTMENTS_AVG', 'LIVINGAREA_AVG', 'NONLIVINGAPARTMENTS_AVG',\n",
    "    'NONLIVINGAREA_AVG', 'APARTMENTS_MODE', 'BASEMENTAREA_MODE', 'YEARS_BEGINEXPLUATATION_MODE',\n",
    "    'YEARS_BUILD_MODE', 'COMMONAREA_MODE', 'ELEVATORS_MODE', 'ENTRANCES_MODE', 'FLOORSMAX_MODE',\n",
    "    'FLOORSMIN_MODE', 'LANDAREA_MODE', 'LIVINGAPARTMENTS_MODE', 'LIVINGAREA_MODE',\n",
    "    'NONLIVINGAPARTMENTS_MODE', 'NONLIVINGAREA_MODE', 'APARTMENTS_MEDI', 'BASEMENTAREA_MEDI',\n",
    "    'YEARS_BEGINEXPLUATATION_MEDI', 'YEARS_BUILD_MEDI', 'COMMONAREA_MEDI', 'ELEVATORS_MEDI',\n",
    "    'ENTRANCES_MEDI', 'FLOORSMAX_MEDI', 'FLOORSMIN_MEDI', 'LANDAREA_MEDI', 'LIVINGAPARTMENTS_MEDI',\n",
    "    'LIVINGAREA_MEDI', 'NONLIVINGAPARTMENTS_MEDI', 'NONLIVINGAREA_MEDI', 'FONDKAPREMONT_MODE',\n",
    "    'HOUSETYPE_MODE', 'TOTALAREA_MODE', 'WALLSMATERIAL_MODE', 'EMERGENCYSTATE_MODE',\n",
    "    'OBS_30_CNT_SOCIAL_CIRCLE', 'OBS_60_CNT_SOCIAL_CIRCLE', 'FLAG_DOCUMENT_2', 'FLAG_DOCUMENT_3',\n",
    "    'FLAG_DOCUMENT_4', 'FLAG_DOCUMENT_5', 'FLAG_DOCUMENT_6', 'FLAG_DOCUMENT_7', 'FLAG_DOCUMENT_8',\n",
    "    'FLAG_DOCUMENT_9', 'FLAG_DOCUMENT_10', 'FLAG_DOCUMENT_11', 'FLAG_DOCUMENT_12', 'FLAG_DOCUMENT_13',\n",
    "    'FLAG_DOCUMENT_14', 'FLAG_DOCUMENT_15', 'FLAG_DOCUMENT_16', 'FLAG_DOCUMENT_17', 'FLAG_DOCUMENT_18',\n",
    "    'FLAG_DOCUMENT_19', 'FLAG_DOCUMENT_20', 'FLAG_DOCUMENT_21', 'AMT_REQ_CREDIT_BUREAU_HOUR',\n",
    "    'AMT_REQ_CREDIT_BUREAU_DAY', 'AMT_REQ_CREDIT_BUREAU_WEEK'\n",
    "]\n",
    "\n",
    "application_train= application_train.drop(columns=columns_to_drop)"
   ]
  },
  {
   "cell_type": "code",
   "execution_count": 6,
   "metadata": {},
   "outputs": [],
   "source": [
    "application_train['365243DAYS_EMPLOYED'] = application_train['DAYS_EMPLOYED'].apply(lambda x: 1 if x == 365243 else 0)\n",
    "application_train['DAYS_EMPLOYED'] = application_train['DAYS_EMPLOYED'].replace(365243, np.nan)"
   ]
  },
  {
   "cell_type": "code",
   "execution_count": 7,
   "metadata": {},
   "outputs": [],
   "source": [
    "# change DAYS_BIRTH to AGE\n",
    "application_train[\"DAYS_BIRTH\"] = application_train[\"DAYS_BIRTH\"] / 365\n",
    "application_train[\"DAYS_BIRTH\"] = application_train[\"DAYS_BIRTH\"].astype(int).abs()\n",
    "application_train = application_train.rename(columns={\"DAYS_BIRTH\": \"AGE\"})\n",
    "\n",
    "# change DAYS_EMPLOYED to JOB_TENURE\n",
    "application_train[\"DAYS_EMPLOYED\"] = application_train[\"DAYS_EMPLOYED\"] / 365\n",
    "application_train[\"DAYS_EMPLOYED\"] = application_train[\"DAYS_EMPLOYED\"].round(1).abs()\n",
    "application_train = application_train.rename(columns={\"DAYS_EMPLOYED\": \"JOB_TENURE\"})\n",
    "\n",
    "#處理極端值\n",
    "application_train['AMT_INCOME_TOTAL'] = application_train['AMT_INCOME_TOTAL'].replace(100000000, np.nan)\n",
    "application_train[[\n",
    "    'DAYS_REGISTRATION','DAYS_ID_PUBLISH','DAYS_LAST_PHONE_CHANGE']] = application_train[[\n",
    "    'DAYS_REGISTRATION','DAYS_ID_PUBLISH','DAYS_LAST_PHONE_CHANGE']].abs()\n",
    "\n",
    "\n",
    "application_train['REGION_RATING_CLIENT_W_CITY'] = application_train['REGION_RATING_CLIENT_W_CITY'].replace(-1, 0)\n",
    "\n",
    "\n",
    "# (11) Replace values greater than 100 in 'AMT_REQ_CREDIT_BUREAU_QRT' column with np.nan\n",
    "application_train['AMT_REQ_CREDIT_BUREAU_QRT'] = application_train['AMT_REQ_CREDIT_BUREAU_QRT'].apply(lambda x: np.nan if x > 100 else x)\n",
    "\n",
    "#缺失值補0\n",
    "application_train[[\n",
    "    'AMT_REQ_CREDIT_BUREAU_MON', 'AMT_REQ_CREDIT_BUREAU_YEAR','OWN_CAR_AGE','EXT_SOURCE_1', 'EXT_SOURCE_2', 'EXT_SOURCE_3','AMT_REQ_CREDIT_BUREAU_QRT','DEF_30_CNT_SOCIAL_CIRCLE','DEF_60_CNT_SOCIAL_CIRCLE']] = application_train[[\n",
    "    'AMT_REQ_CREDIT_BUREAU_MON', 'AMT_REQ_CREDIT_BUREAU_YEAR','OWN_CAR_AGE','EXT_SOURCE_1', 'EXT_SOURCE_2', 'EXT_SOURCE_3','AMT_REQ_CREDIT_BUREAU_QRT','DEF_30_CNT_SOCIAL_CIRCLE','DEF_60_CNT_SOCIAL_CIRCLE']].fillna(0)\n",
    "\n",
    "#缺失值補平均數\n",
    "columns_to_fill_mean = ['AMT_ANNUITY','AMT_GOODS_PRICE',\"JOB_TENURE\",'DAYS_LAST_PHONE_CHANGE','CNT_FAM_MEMBERS']  \n",
    "mean_values = {}\n",
    "for col in columns_to_fill_mean:\n",
    "    mean_values[col] = application_train[col].mean()\n",
    "    application_train.loc[application_train[col].isna(), col] = mean_values[col]\n",
    "\n",
    "\n",
    "#缺失值補隨機值\n",
    "columns_to_fill_random = ['NAME_TYPE_SUITE', 'OCCUPATION_TYPE']\n",
    "\n",
    "for col in columns_to_fill_random:\n",
    "    random_values = np.random.choice(application_train[col].dropna(), size=application_train[col].isna().sum())\n",
    "    application_train.loc[application_train[col].isna(), col] = random_values\n"
   ]
  },
  {
   "cell_type": "code",
   "execution_count": 8,
   "metadata": {},
   "outputs": [
    {
     "name": "stdout",
     "output_type": "stream",
     "text": [
      "SK_ID_CURR                     0.0\n",
      "TARGET                         0.0\n",
      "NAME_CONTRACT_TYPE             0.0\n",
      "CODE_GENDER                    0.0\n",
      "FLAG_OWN_CAR                   0.0\n",
      "FLAG_OWN_REALTY                0.0\n",
      "CNT_CHILDREN                   0.0\n",
      "AMT_INCOME_TOTAL               0.0\n",
      "AMT_CREDIT                     0.0\n",
      "AMT_ANNUITY                    0.0\n",
      "AMT_GOODS_PRICE                0.0\n",
      "NAME_TYPE_SUITE                0.0\n",
      "NAME_INCOME_TYPE               0.0\n",
      "NAME_EDUCATION_TYPE            0.0\n",
      "NAME_FAMILY_STATUS             0.0\n",
      "NAME_HOUSING_TYPE              0.0\n",
      "REGION_POPULATION_RELATIVE     0.0\n",
      "AGE                            0.0\n",
      "JOB_TENURE                     0.0\n",
      "DAYS_REGISTRATION              0.0\n",
      "DAYS_ID_PUBLISH                0.0\n",
      "OWN_CAR_AGE                    0.0\n",
      "OCCUPATION_TYPE                0.0\n",
      "CNT_FAM_MEMBERS                0.0\n",
      "REGION_RATING_CLIENT           0.0\n",
      "REGION_RATING_CLIENT_W_CITY    0.0\n",
      "WEEKDAY_APPR_PROCESS_START     0.0\n",
      "HOUR_APPR_PROCESS_START        0.0\n",
      "ORGANIZATION_TYPE              0.0\n",
      "EXT_SOURCE_1                   0.0\n",
      "EXT_SOURCE_2                   0.0\n",
      "EXT_SOURCE_3                   0.0\n",
      "DEF_30_CNT_SOCIAL_CIRCLE       0.0\n",
      "DEF_60_CNT_SOCIAL_CIRCLE       0.0\n",
      "DAYS_LAST_PHONE_CHANGE         0.0\n",
      "AMT_REQ_CREDIT_BUREAU_MON      0.0\n",
      "AMT_REQ_CREDIT_BUREAU_QRT      0.0\n",
      "AMT_REQ_CREDIT_BUREAU_YEAR     0.0\n",
      "365243DAYS_EMPLOYED            0.0\n",
      "dtype: float64\n"
     ]
    },
    {
     "data": {
      "text/plain": [
       "(307511, 39)"
      ]
     },
     "execution_count": 8,
     "metadata": {},
     "output_type": "execute_result"
    }
   ],
   "source": [
    "print(application_train.isna().sum()/application_train.shape[0])\n",
    "application_train.shape"
   ]
  },
  {
   "cell_type": "code",
   "execution_count": 10,
   "metadata": {},
   "outputs": [],
   "source": [
    "application_train.to_csv('D:/learn/PLOTY/Homecredit/application_train.csv', index=False)"
   ]
  }
 ],
 "metadata": {
  "kernelspec": {
   "display_name": "Python39",
   "language": "python",
   "name": "python3"
  },
  "language_info": {
   "codemirror_mode": {
    "name": "ipython",
    "version": 3
   },
   "file_extension": ".py",
   "mimetype": "text/x-python",
   "name": "python",
   "nbconvert_exporter": "python",
   "pygments_lexer": "ipython3",
   "version": "3.9.16"
  },
  "orig_nbformat": 4
 },
 "nbformat": 4,
 "nbformat_minor": 2
}
