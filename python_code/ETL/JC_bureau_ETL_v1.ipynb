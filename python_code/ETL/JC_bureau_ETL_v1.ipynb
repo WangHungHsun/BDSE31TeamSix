{
 "cells": [
  {
   "cell_type": "code",
   "execution_count": 1,
   "metadata": {},
   "outputs": [
    {
     "name": "stdout",
     "output_type": "stream",
     "text": [
      "   userID  SK_ID_BUREAU      CA         CS        CD               CT  \\\n",
      "0  215354       5714462  Closed    91323.0       0.0  Consumer credit   \n",
      "1  215354       5714463  Active   225000.0  171342.0      Credit card   \n",
      "2  215354       5714464  Active   464323.5       NaN  Consumer credit   \n",
      "3  215354       5714465  Active    90000.0       NaN      Credit card   \n",
      "4  215354       5714466  Active  2700000.0       NaN  Consumer credit   \n",
      "\n",
      "   annuity  average  \n",
      "0      NaN      NaN  \n",
      "1      NaN      NaN  \n",
      "2      NaN      NaN  \n",
      "3      NaN      NaN  \n",
      "4      NaN      NaN  \n"
     ]
    }
   ],
   "source": [
    "# 合併 bureau.csv 和 average.csv(貸款狀況評分)\n",
    "import pandas as pd\n",
    "import numpy as np\n",
    "import matplotlib.pyplot as plt\n",
    "import seaborn as sns\n",
    "\n",
    "head = ['userID', 'SK_ID_BUREAU', 'CA', 'CC', 'DC',\n",
    "        'CDO', 'DE', 'DF', 'MO', 'CP', 'CS', 'CD', 'CL', 'CO', 'CT', 'CU', 'annuity']\n",
    "df = pd.read_csv('./data/bureau.csv') \n",
    "bal_df = pd.read_csv('./data/average.csv')\n",
    "br_df = df.copy(deep=True)\n",
    "br_df.columns = head\n",
    "br_df.drop(columns=['CC', 'DC', 'CDO', 'DE', 'DF',\n",
    "                   'MO', 'CP', 'CL', 'CO', 'CU'], inplace=True)\n",
    "\n",
    "br_df = br_df.merge(bal_df, on='SK_ID_BUREAU', how='left')\n",
    "print(br_df.head())"
   ]
  },
  {
   "cell_type": "code",
   "execution_count": 2,
   "metadata": {},
   "outputs": [
    {
     "name": "stdout",
     "output_type": "stream",
     "text": [
      "命名前一共 15 個類別\n",
      "命名後一共 15 個類別\n",
      "['business development', 'Consumer credit', 'purchase of equipment', 'Unknown type', 'Cash loan', 'Microloan', 'Mortgage', 'Credit card', 'Car loan', 'working capital replenishment', 'Interbank credit', 'Mobile operator loan', 'Another type of loan', 'Real estate loan', 'purchase of shares']\n"
     ]
    }
   ],
   "source": [
    "# Credit Type 名稱冗長，重新命名\n",
    "print(f\"命名前一共 {len(list(set(br_df['CT'])))} 個類別\")\n",
    "renameDict = {'Unknown type of loan' : 'Unknown type', 'Unknown type': 'Unknown type','Loan for business development':'business development',\n",
    "               'Loan for working capital replenishment':'working capital replenishment','Loan for purchase of shares (margin lending)':'purchase of shares', \n",
    "              'Consumer credit':'Consumer credit', 'Mortgage':'Mortgage', 'Real estate loan' : 'Real estate loan', 'Another type of loan':'Another type of loan',\n",
    "                'Loan for the purchase of equipment' :'purchase of equipment','business development':'business development',\n",
    "              'Cash loan' : 'Cash loan', 'Car loan' : 'Car loan', 'Credit card':'Credit card', 'Interbank credit':'Interbank credit', 'Mobile operator loan' : 'Mobile operator loan',\n",
    "               'Cash loan (non-earmarked)':'Cash loan', 'Microloan':'Microloan', 'working capital replenishment':'working capital replenishment',\n",
    "              }\n",
    "\n",
    "br_df['CT'].replace(renameDict, inplace=True)\n",
    "loanType = list(set(br_df['CT']))\n",
    "print(f\"命名後一共 {len(set(br_df['CT']))} 個類別\")\n",
    "print(loanType)"
   ]
  },
  {
   "cell_type": "code",
   "execution_count": 3,
   "metadata": {},
   "outputs": [],
   "source": [
    "CTdf = br_df.iloc[:,2:-1].groupby('CT')\n",
    "CTMeandf = pd.DataFrame(columns=['CT','CDmean', 'CSmean', 'annuitymean'])\n",
    "tempList = []\n",
    "for i in loanType:\n",
    "    # print(i,'的各項平均')\n",
    "    tempList.append(i)\n",
    "    for j in ['CD', 'CS', 'annuity']:\n",
    "        tempList.append(round(np.mean(CTdf.get_group(i)[j]),2))\n",
    "        # print(f'{j}的平均值: {np.mean(CTdf.get_group(i)[j])}')\n",
    "tempArray = np.array(tempList).reshape(-1,4)\n",
    "\n",
    "for i in range(len(tempArray.tolist())):\n",
    "    CTMeandf.loc[len(CTMeandf)] = tempArray.tolist()[i]\n",
    "\n",
    "# 貸款類型(CT) 在各欄位的平均表現\n",
    "for i in ['CT','CDmean', 'CSmean', 'annuitymean']:\n",
    "    if i == 'CT':\n",
    "        CTMeandf[i] = CTMeandf[i]\n",
    "    else:\n",
    "        CTMeandf[i]  = pd.to_numeric(CTMeandf[i] ,errors='coerce')\n",
    "\n",
    "# 有貸款類型的值不能計算平均，在此補 0\n",
    "CTMeandf = CTMeandf.fillna(0.0)\n",
    "\n",
    "values = br_df['CT'].value_counts(dropna=False).keys().tolist()\n",
    "counts = br_df['CT'].value_counts(dropna=False).tolist()\n",
    "value_dict = dict(zip(values, counts))\n",
    "\n",
    "tempList = []\n",
    "for i in range(len(CTMeandf['CT'])):\n",
    "    tempList.append(value_dict[CTMeandf['CT'][i]])\n",
    "\n",
    "CTMeandf['samples'] = tempList\n",
    "\n",
    "tempList = []\n",
    "for i in range(len(CTMeandf['samples'])):\n",
    "    n = round(CTMeandf['samples'][i]/(CTMeandf['samples'].sum()),3)\n",
    "    tempList.append(n)\n",
    "CTMeandf['percentage'] = tempList"
   ]
  },
  {
   "cell_type": "code",
   "execution_count": 4,
   "metadata": {},
   "outputs": [
    {
     "name": "stdout",
     "output_type": "stream",
     "text": [
      "Consumer credit                  1252909\n",
      "Credit card                       402276\n",
      "Car loan                           27691\n",
      "Mortgage                           18391\n",
      "Microloan                          12414\n",
      "business development                1983\n",
      "working capital replenishment        471\n",
      "Cash loan                            175\n",
      "Interbank credit                      61\n",
      "Real estate loan                      27\n",
      "purchase of equipment                 20\n",
      "purchase of shares                     9\n",
      "Mobile operator loan                   1\n",
      "Name: CT, dtype: int64\n"
     ]
    }
   ],
   "source": [
    "from sklearn import preprocessing\n",
    "from sklearn.preprocessing import LabelEncoder\n",
    "from sklearn.impute import KNNImputer\n",
    "from sklearn.neighbors import KNeighborsClassifier\n",
    "from sklearn.model_selection import train_test_split\n",
    "from sklearn.preprocessing import StandardScaler\n",
    "\n",
    "# 將定義不清楚的貸款類別重新分類，eta: 3 mins\n",
    "df.loc[df['CREDIT_TYPE']=='Another type of loan', 'CREDIT_TYPE'] = np.nan\n",
    "df.loc[df['CREDIT_TYPE']=='Unknown type', 'CREDIT_TYPE'] = np.nan\n",
    "df.loc[df['CREDIT_TYPE']=='Unknown type of loan', 'CREDIT_TYPE'] = np.nan\n",
    "\n",
    "CA_ohe = pd.get_dummies(df['CREDIT_ACTIVE'],dtype=float)\n",
    "CAType = list(set(df['CREDIT_ACTIVE']))\n",
    "\n",
    "tempdf = pd.concat([df, CA_ohe], axis = 1)\n",
    "# print(tempdf.isna().sum())\n",
    "independentVariables = ['DAYS_CREDIT','CREDIT_DAY_OVERDUE','CNT_CREDIT_PROLONG','AMT_CREDIT_SUM_OVERDUE','DAYS_CREDIT_UPDATE', 'CREDIT_TYPE'] + CAType\n",
    "tempdf = tempdf[independentVariables]\n",
    "\n",
    "# 貸款類別轉成名目，並保留 NaN，以利後續 KNN 補值\n",
    "le = LabelEncoder()\n",
    "tempdf['CREDIT_TYPE'] = pd.Series(\n",
    "    le.fit_transform(tempdf['CREDIT_TYPE'][tempdf['CREDIT_TYPE'].notnull()]),\n",
    "    index=tempdf['CREDIT_TYPE'][tempdf['CREDIT_TYPE'].notnull()].index\n",
    ")\n",
    "# 使用 KNN 前先標準化，會導致\n",
    "scaler = StandardScaler()\n",
    "tempdf.iloc[:,:5] = scaler.fit_transform(tempdf.iloc[:,:5].to_numpy())\n",
    "\n",
    "imputer = KNNImputer(n_neighbors=5)\n",
    "tempdf = pd.DataFrame(imputer.fit_transform(tempdf),columns = tempdf.columns)\n",
    "tempdf['CREDIT_TYPE'] = tempdf['CREDIT_TYPE'].astype(int)\n",
    "# print(tempdf.isna().sum())\n",
    "\n",
    "# 從名目轉回貸款類別\n",
    "tempdf['CREDIT_TYPE'] = tempdf['CREDIT_TYPE'].astype(int)\n",
    "le_name_mapping = dict(zip(le.classes_, le.transform(le.classes_)))\n",
    "# print(le_name_mapping)\n",
    "inv_mapping = {v : ct for ct, v in le_name_mapping.items()}\n",
    "tempdf['CREDIT_TYPE'] = tempdf['CREDIT_TYPE'].map(inv_mapping)\n",
    "# print(tempdf['CREDIT_TYPE'].isna().sum())\n",
    "\n",
    "br_df['CT'] = tempdf['CREDIT_TYPE']\n",
    "br_df['CT'].replace(renameDict, inplace=True)\n",
    "\n",
    "print(br_df['CT'].value_counts())"
   ]
  },
  {
   "cell_type": "code",
   "execution_count": 5,
   "metadata": {},
   "outputs": [
    {
     "name": "stdout",
     "output_type": "stream",
     "text": [
      "刪除後一共 7 個類別\n"
     ]
    }
   ],
   "source": [
    "# 移除不到 1 % 的貸款類別(CT) (視為噪音)\n",
    "rmCols = ['Mobile operator loan','Real estate loan','Cash loan','Interbank credit','purchase of equipment', 'purchase of shares']\n",
    "for i in rmCols:\n",
    "    br_df.drop(br_df.loc[br_df['CT']==i].index, inplace=True)\n",
    "br_df = br_df.reset_index()\n",
    "print(f\"刪除後一共 {len(set(br_df['CT']))} 個類別\")"
   ]
  },
  {
   "cell_type": "code",
   "execution_count": 6,
   "metadata": {},
   "outputs": [
    {
     "data": {
      "text/plain": [
       "{'Car loan',\n",
       " 'Consumer credit',\n",
       " 'Credit card',\n",
       " 'Microloan',\n",
       " 'Mortgage',\n",
       " 'business development',\n",
       " 'working capital replenishment'}"
      ]
     },
     "execution_count": 6,
     "metadata": {},
     "output_type": "execute_result"
    }
   ],
   "source": [
    "set(br_df['CT'])"
   ]
  },
  {
   "cell_type": "code",
   "execution_count": 7,
   "metadata": {},
   "outputs": [
    {
     "name": "stdout",
     "output_type": "stream",
     "text": [
      "                 CD            CS       annuity        average\n",
      "count  1.457514e+06  1.715826e+06  4.895360e+05  694006.000000\n",
      "mean   1.273389e+05  3.479428e+05  1.396188e+04       0.954136\n",
      "std    5.072232e+05  8.189935e+05  9.334662e+04       0.251051\n",
      "min    0.000000e+00  0.000000e+00  0.000000e+00      -5.000000\n",
      "25%    0.000000e+00  5.130000e+04  0.000000e+00       1.000000\n",
      "50%    0.000000e+00  1.254690e+05  0.000000e+00       1.000000\n",
      "75%    3.976819e+04  3.150000e+05  1.350000e+04       1.000000\n",
      "max    9.999716e+06  1.999800e+07  9.979880e+06       1.000000\n"
     ]
    }
   ],
   "source": [
    "# 將債務金額(CD) 負值改成正值\n",
    "br_df['CD'] = np.abs(br_df['CD'])\n",
    "# print(br_df['CD'].min())\n",
    "\n",
    "# 將極端值設為 NaN\n",
    "for i in ['CD', 'CS', 'annuity']:\n",
    "    if i == 'CD':\n",
    "        br_df.loc[br_df[i] > 10000000 ,i] = np.nan\n",
    "        br_df.loc[br_df[i] < 0, i] = 0\n",
    "    elif i == 'CS':\n",
    "        br_df.loc[br_df[i] > 20000000 ,i] = np.nan\n",
    "    elif i == 'annuity':\n",
    "        br_df.loc[br_df[i] > 10000000 ,i] = np.nan\n",
    "\n",
    "print(br_df[['CD', 'CS', 'annuity', 'average']].describe())"
   ]
  },
  {
   "cell_type": "code",
   "execution_count": 8,
   "metadata": {},
   "outputs": [
    {
     "name": "stdout",
     "output_type": "stream",
     "text": [
      "(1716428, 21)\n",
      "0\n"
     ]
    }
   ],
   "source": [
    "from sklearn.ensemble import RandomForestRegressor\n",
    "\n",
    "# RF 預測 annuity NaN 並補值，eta: 4mins\n",
    "# print(df.isna().any(axis = 0)) # 查看沒 NAN 的特徵有哪些，以選取可以比較的欄位 (不包括幣別)\n",
    "\n",
    "Series = df['AMT_ANNUITY']\n",
    "withAnn = df[pd.isnull(Series) == False]\n",
    "withoutAnn = df[pd.isnull(Series)]\n",
    "CA_ohe = pd.get_dummies(withAnn['CREDIT_ACTIVE'],dtype=float) # 4 類\n",
    "CT_ohe = pd.get_dummies(withAnn['CREDIT_TYPE'],dtype=float) # 13 類\n",
    "CTType = list(set(df['CREDIT_TYPE']))\n",
    "CTType.remove('Interbank credit')\n",
    "CTType.remove('Mobile operator loan')\n",
    "CTType.remove(np.nan)\n",
    "CAType = list(set(df['CREDIT_ACTIVE']))\n",
    "withAnn = pd.concat([withAnn, CA_ohe, CT_ohe], axis = 1)\n",
    "variables = ['DAYS_CREDIT','CREDIT_DAY_OVERDUE','CNT_CREDIT_PROLONG','AMT_CREDIT_SUM_OVERDUE','DAYS_CREDIT_UPDATE', 'AMT_ANNUITY'] + CAType + CTType # 23 cols\n",
    "withAnn = withAnn[variables] # get_dum() 的 0 被轉成 NaN\n",
    "withAnn = withAnn.fillna(0) \n",
    "\n",
    "CA_ohe = pd.get_dummies(withoutAnn['CREDIT_ACTIVE'],dtype=float)\n",
    "CT_ohe = pd.get_dummies(withoutAnn['CREDIT_TYPE'],dtype=float)\n",
    "withoutAnn = pd.concat([withoutAnn, CA_ohe, CT_ohe], axis = 1)\n",
    "withoutAnn = withoutAnn[variables]\n",
    "withoutAnn = withoutAnn.fillna(0)\n",
    "\n",
    "independentVariables = ['DAYS_CREDIT','CREDIT_DAY_OVERDUE','CNT_CREDIT_PROLONG','AMT_CREDIT_SUM_OVERDUE','DAYS_CREDIT_UPDATE'] + CAType + CTType\n",
    "X, y = withAnn[independentVariables], withAnn['AMT_ANNUITY']\n",
    "X_pred = withoutAnn[independentVariables]\n",
    "\n",
    "rfModel_ann = RandomForestRegressor()\n",
    "rfModel_ann.fit(X, y)\n",
    "y_pred = rfModel_ann.predict(X_pred)\n",
    "withoutAnn['AMT_ANNUITY'] = y_pred.astype(int)\n",
    "data = pd.concat([withAnn, withoutAnn])\n",
    "data.reset_index(inplace=True)\n",
    "data.drop('index',inplace=True,axis=1)\n",
    "print(data.shape)\n",
    "print(data['AMT_ANNUITY'].isna().sum())"
   ]
  },
  {
   "cell_type": "code",
   "execution_count": 9,
   "metadata": {},
   "outputs": [
    {
     "name": "stdout",
     "output_type": "stream",
     "text": [
      "194\n"
     ]
    }
   ],
   "source": [
    "CTMeandf['ratio'] = round(CTMeandf['CDmean'] / CTMeandf['CSmean'], 2)\n",
    "# NaN 值數量\n",
    "# CS                  312\n",
    "# CD               258626\n",
    "# 有 194 筆兩欄(CS、CD) 同時是 NaN 的貸款\n",
    "allNan = br_df[br_df['CS'].isna() & br_df['CD'].isna()]\n",
    "print(allNan.shape[0]) # 194"
   ]
  },
  {
   "cell_type": "code",
   "execution_count": 10,
   "metadata": {},
   "outputs": [],
   "source": [
    "# 以該筆貸款的貸款類別(CT)平均額度使用率，同時補給CS, CD 的 nan 一個比例值\n",
    "for i in allNan['SK_ID_BUREAU'].to_list():\n",
    "    br_df.loc[br_df['SK_ID_BUREAU'] == i, 'CS'] = 0\n",
    "    br_df.loc[br_df['SK_ID_BUREAU'] == i, 'CD'] = 0\n",
    "br_df = pd.merge(br_df, CTMeandf[['CT','ratio']], on = 'CT')\n",
    "br_df['CS'].fillna(br_df['CD'] / br_df['ratio'], inplace = True)\n",
    "br_df['CD'].fillna(br_df['CS'] * br_df['ratio'], inplace = True)"
   ]
  },
  {
   "cell_type": "code",
   "execution_count": 11,
   "metadata": {},
   "outputs": [
    {
     "name": "stdout",
     "output_type": "stream",
     "text": [
      "userID          0\n",
      "SK_ID_BUREAU    0\n",
      "CA              0\n",
      "CS              0\n",
      "CD              0\n",
      "CT              0\n",
      "annuity         0\n",
      "average         0\n",
      "dtype: int64\n"
     ]
    }
   ],
   "source": [
    "# average NaN 補 0，即視同沒紀錄\n",
    "br_df['average'] = br_df['average'].fillna(0.0)\n",
    "\n",
    "# annuity NaN 以 random forest 補\n",
    "br_df['annuity'] = data['AMT_ANNUITY']\n",
    "\n",
    "# 刪掉先前計算用的欄位\n",
    "del br_df['ratio']\n",
    "del br_df['index']\n",
    "print(br_df.isna().sum())\n",
    "br_df.to_csv('./data/fillna.csv')"
   ]
  },
  {
   "cell_type": "code",
   "execution_count": 12,
   "metadata": {},
   "outputs": [
    {
     "name": "stderr",
     "output_type": "stream",
     "text": [
      "C:\\Users\\User\\AppData\\Local\\Temp\\ipykernel_15600\\1882926969.py:15: RuntimeWarning: divide by zero encountered in double_scalars\n",
      "  userCD_CS_ratio.append(np.sum(perUser.get_group(i)['CD'])/np.sum(perUser.get_group(i)['CS']))\n",
      "C:\\Users\\User\\AppData\\Local\\Temp\\ipykernel_15600\\1882926969.py:15: RuntimeWarning: invalid value encountered in double_scalars\n",
      "  userCD_CS_ratio.append(np.sum(perUser.get_group(i)['CD'])/np.sum(perUser.get_group(i)['CS']))\n"
     ]
    }
   ],
   "source": [
    "# 賦予物理意義，eta: 4 mins\n",
    "perUser = br_df.groupby(['userID'])\n",
    "userList = list(set(br_df['userID']))\n",
    "\n",
    "# 當月所需支付的年金總額\n",
    "userSumAnn = []\n",
    "# 信用額度使用率\n",
    "userCD_CS_ratio = []\n",
    "# 還款狀況\n",
    "userStatus = []\n",
    "\n",
    "# 因 CD 和 CS 都有 0 的值發生，所以產生出來的值須再補值一次\n",
    "for i in userList:\n",
    "    userSumAnn.append(np.sum(perUser.get_group(i)['annuity']))\n",
    "    userCD_CS_ratio.append(np.sum(perUser.get_group(i)['CD'])/np.sum(perUser.get_group(i)['CS']))\n",
    "    userStatus.append(np.average(perUser.get_group(i)['average']))"
   ]
  },
  {
   "cell_type": "code",
   "execution_count": 13,
   "metadata": {},
   "outputs": [
    {
     "name": "stdout",
     "output_type": "stream",
     "text": [
      "--- check isna() ---\n",
      "SK_ID_CURR                  0\n",
      "CDCS_ratio               1218\n",
      "bureau_annuity_mean         0\n",
      "bereau_balance_status       0\n",
      "dtype: int64\n",
      "--- Final version check isna() ---\n",
      "SK_ID_CURR               0\n",
      "CDCS_ratio               0\n",
      "bureau_annuity_mean      0\n",
      "bereau_balance_status    0\n",
      "dtype: int64\n"
     ]
    }
   ],
   "source": [
    "# 最終每位 User 的 df\n",
    "final_df = pd.DataFrame(\n",
    "     {'SK_ID_CURR': userList,'CDCS_ratio': userCD_CS_ratio, 'bureau_annuity_mean': userSumAnn, 'bereau_balance_status': userStatus})\n",
    "# print(final_df.iloc[:, 1:].describe())\n",
    "\n",
    "# 有 1224 人沒有信用額度使用率，猜測是之前為小白，現在卻開始貸款，所以無聯徵紀錄\n",
    "# 而完全沒在聯徵資料出現的貸款者，猜測其當前仍然是小白\n",
    "print('--- check isna() ---')\n",
    "print(final_df.isna().sum())\n",
    "\n",
    "# 將信用額度使用率 nan 補 0 ，即此人的過往聯徵是小白\n",
    "final_df['CDCS_ratio'].fillna(0.0, inplace = True)\n",
    "final_df[np.isinf(final_df['CDCS_ratio'])] = 0\n",
    "print('--- Final version check isna() ---')\n",
    "print(final_df.isna().sum())\n",
    "final_df.to_csv('./data/bureau_final.csv', index = False)"
   ]
  },
  {
   "cell_type": "code",
   "execution_count": 20,
   "metadata": {},
   "outputs": [
    {
     "name": "stdout",
     "output_type": "stream",
     "text": [
      "   SK_ID_CURR  CDCS_ratio  bureau_annuity_mean  bereau_balance_status\n",
      "0      100001    0.410555             223150.5               0.978022\n",
      "1      100002    0.348965              87296.0               0.401557\n",
      "2      100003    0.000000              63504.0               0.000000\n",
      "3      100004    0.000000              45000.0               0.000000\n",
      "4      100005    0.864992              54549.0               1.000000\n",
      "\n",
      "筆數: 305794\n"
     ]
    }
   ],
   "source": [
    "df = pd.read_csv('./data/bureau_final.csv')\n",
    "print(df.head())\n",
    "print()\n",
    "print(f'筆數: {df.shape[0]}')"
   ]
  },
  {
   "cell_type": "markdown",
   "metadata": {},
   "source": [
    "被歸類在極端值的貸款人"
   ]
  },
  {
   "cell_type": "code",
   "execution_count": 16,
   "metadata": {},
   "outputs": [
    {
     "name": "stdout",
     "output_type": "stream",
     "text": [
      "=================信用額度使用率極端值=================\n",
      "Q1:0.09366797258979205, Q3: 0.5149760349268764\n",
      "Outlier 上下界: [-0.5382941209158344,1.1469381284325029]\n",
      "1.5 IQR 下的極端值共有: 404 筆\n",
      "\n",
      "=================年金極端值=================\n",
      "Q1:18540.925000000003, Q3: 95370.125\n",
      "Outlier 上下界: [-96702.87499999999,210613.925]\n",
      "1.5 IQR 下的極端值共有: 20865 筆\n",
      "\n",
      "=================信用評分極端值=================\n",
      "Q1:0.0, Q3: 0.9583333333333334\n",
      "Outlier 上下界: [-1.4375,2.3958333333333335]\n",
      "1.5 IQR 下的極端值共有: 231 筆\n",
      "\n",
      "總共有 21486 人算極端值\n"
     ]
    }
   ],
   "source": [
    "# 極端值數量(1.5 * IQR)\n",
    "# 信用額度使用率: 越高超過一理論上表示刷到爆掉，低信用\n",
    "temp = df['CDCS_ratio'].unique()\n",
    "temp = np.sort(temp)\n",
    "temp = temp[::-1]\n",
    "# print(f'信用額度使用率前五大值: {temp[:5]}')\n",
    "print('=================信用額度使用率極端值=================')\n",
    "print(f'Q1:{df[\"CDCS_ratio\"].quantile(0.25)}, Q3: {df[\"CDCS_ratio\"].quantile(0.75)}')\n",
    "oIQR = df[\"CDCS_ratio\"].quantile(0.75) - df[\"CDCS_ratio\"].quantile(0.25)\n",
    "print(f'Outlier 上下界: [{df[\"CDCS_ratio\"].quantile(0.25)-1.5*oIQR},{df[\"CDCS_ratio\"].quantile(0.75)+1.5*oIQR}]')\n",
    "nOutliers = df.loc[final_df[\"CDCS_ratio\"]>df[\"CDCS_ratio\"].quantile(0.75)+1.5*oIQR].shape[0] + df.loc[df[\"CDCS_ratio\"]<df[\"CDCS_ratio\"].quantile(0.25)-1.5*oIQR].shape[0]\n",
    "print(f'1.5 IQR 下的極端值共有: {nOutliers} 筆')\n",
    "print()\n",
    "print('=================年金極端值=================')\n",
    "print(f'Q1:{df[\"bureau_annuity_mean\"].quantile(0.25)}, Q3: {df[\"bureau_annuity_mean\"].quantile(0.75)}')\n",
    "oIQR = df[\"bureau_annuity_mean\"].quantile(0.75) - df[\"bureau_annuity_mean\"].quantile(0.25)\n",
    "print(f'Outlier 上下界: [{df[\"bureau_annuity_mean\"].quantile(0.25)-1.5*oIQR},{df[\"bureau_annuity_mean\"].quantile(0.75)+1.5*oIQR}]')\n",
    "nOutliers = df.loc[df[\"bureau_annuity_mean\"]>df[\"bureau_annuity_mean\"].quantile(0.75)+1.5*oIQR].shape[0] + df.loc[final_df[\"bureau_annuity_mean\"]<df[\"bureau_annuity_mean\"].quantile(0.25)-1.5*oIQR].shape[0]\n",
    "print(f'1.5 IQR 下的極端值共有: {nOutliers} 筆')\n",
    "print()\n",
    "print('=================信用評分極端值=================')\n",
    "print(f'Q1:{df[\"bereau_balance_status\"].quantile(0.25)}, Q3: {df[\"bereau_balance_status\"].quantile(0.75)}')\n",
    "oIQR = df[\"bereau_balance_status\"].quantile(0.75) - df[\"bereau_balance_status\"].quantile(0.25)\n",
    "print(f'Outlier 上下界: [{df[\"bereau_balance_status\"].quantile(0.25)-1.5*oIQR},{df[\"bereau_balance_status\"].quantile(0.75)+1.5*oIQR}]')\n",
    "nOutliers = df.loc[df[\"bereau_balance_status\"]>df[\"bereau_balance_status\"].quantile(0.75)+1.5*oIQR].shape[0] + df.loc[final_df[\"bereau_balance_status\"]<df[\"bereau_balance_status\"].quantile(0.25)-1.5*oIQR].shape[0]\n",
    "print(f'1.5 IQR 下的極端值共有: {nOutliers} 筆')\n",
    "\n",
    "tempList = []\n",
    "tempList1 = []\n",
    "tempList2 = []\n",
    "for i in ['CDCS_ratio', 'bureau_annuity_mean', 'bereau_balance_status']:\n",
    "    temp = df.loc[df[i]>df[i].quantile(0.75)+1.5*(df[i].quantile(0.75) - df[i].quantile(0.25))]['SK_ID_CURR'].to_list()\n",
    "    temp1 = df.loc[df[i]<df[i].quantile(0.25)-1.5*(df[i].quantile(0.75) - df[i].quantile(0.25))]['SK_ID_CURR'].to_list()\n",
    "    if i == 'CDCS_ratio':\n",
    "        tempList = temp + temp1\n",
    "    elif i == 'bureau_annuity_mean':\n",
    "        tempList1 = temp + temp1\n",
    "    else:\n",
    "        tempList2 = temp + temp1\n",
    "olList = tempList + tempList1 + tempList2\n",
    "print()\n",
    "print(f'總共有 {len(set(olList))} 人算極端值')"
   ]
  }
 ],
 "metadata": {
  "kernelspec": {
   "display_name": "Python 3",
   "language": "python",
   "name": "python3"
  },
  "language_info": {
   "codemirror_mode": {
    "name": "ipython",
    "version": 3
   },
   "file_extension": ".py",
   "mimetype": "text/x-python",
   "name": "python",
   "nbconvert_exporter": "python",
   "pygments_lexer": "ipython3",
   "version": "3.10.9"
  },
  "orig_nbformat": 4
 },
 "nbformat": 4,
 "nbformat_minor": 2
}
