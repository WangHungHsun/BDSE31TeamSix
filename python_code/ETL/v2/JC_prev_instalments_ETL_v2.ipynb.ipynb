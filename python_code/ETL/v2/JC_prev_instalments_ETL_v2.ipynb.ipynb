{
 "cells": [
  {
   "cell_type": "code",
   "execution_count": 1,
   "metadata": {},
   "outputs": [],
   "source": [
    "import numpy as np\n",
    "import pandas as pd\n",
    "\n",
    "df = pd.read_csv('D:/project/homecredit/installments_payments.csv')\n",
    "\n",
    "# 依各人的時間排序，讓表格比較好閱讀，不重要的還款暫定還款金額小於預計還款金額的2%\n",
    "df2 = df.sort_values(by=['SK_ID_CURR','SK_ID_PREV','NUM_INSTALMENT_NUMBER','DAYS_INSTALMENT','DAYS_ENTRY_PAYMENT'])"
   ]
  },
  {
   "cell_type": "code",
   "execution_count": 2,
   "metadata": {},
   "outputs": [
    {
     "name": "stderr",
     "output_type": "stream",
     "text": [
      "C:\\Users\\User\\AppData\\Local\\Temp\\ipykernel_4344\\1225382312.py:5: FutureWarning: column_space is deprecated and will be removed in a future version. Use df.to_string(col_space=...) instead.\n",
      "  pd.reset_option('all')\n",
      "C:\\Users\\User\\AppData\\Local\\Temp\\ipykernel_4344\\1225382312.py:5: FutureWarning: As the xlwt package is no longer maintained, the xlwt engine will be removed in a future version of pandas. This is the only engine in pandas that supports writing in the xls format. Install openpyxl and write to an xlsx file instead.\n",
      "  pd.reset_option('all')\n",
      "C:\\Users\\User\\AppData\\Local\\Temp\\ipykernel_4344\\1225382312.py:5: FutureWarning: \n",
      ": boolean\n",
      "    use_inf_as_null had been deprecated and will be removed in a future\n",
      "    version. Use `use_inf_as_na` instead.\n",
      "\n",
      "  pd.reset_option('all')\n"
     ]
    }
   ],
   "source": [
    "df2['DAYS_ENTRY_DIFF'] = df2['DAYS_ENTRY_PAYMENT']-df2['DAYS_INSTALMENT'] # 新增延遲還款天數欄位，正為遲還，負為早還\n",
    "df2['AMT_PAY_DIFF'] = df2['AMT_PAYMENT']-df2['AMT_INSTALMENT'] # 新增還款金額不足欄位，正為多還，負為少還\n",
    "df2['DELAY'] = (df2['DAYS_ENTRY_DIFF']>0).replace(True,1)\n",
    "df2['A_P/I'] = df2['AMT_PAYMENT']/df2['AMT_INSTALMENT']\n",
    "pd.reset_option('all')\n",
    "df2[df2['A_P/I']<0.02] # 假設這些都是不重要的還款\n",
    "df2.loc[df2['A_P/I']<0.02,'DAYS_ENTRY_DIFF'] = 0 # 不重要的還款設為準時還款"
   ]
  },
  {
   "cell_type": "code",
   "execution_count": 3,
   "metadata": {},
   "outputs": [
    {
     "name": "stderr",
     "output_type": "stream",
     "text": [
      "C:\\Users\\User\\AppData\\Local\\Temp\\ipykernel_4344\\438434282.py:10: FutureWarning: column_space is deprecated and will be removed in a future version. Use df.to_string(col_space=...) instead.\n",
      "  pd.reset_option('all')\n",
      "C:\\Users\\User\\AppData\\Local\\Temp\\ipykernel_4344\\438434282.py:10: FutureWarning: As the xlwt package is no longer maintained, the xlwt engine will be removed in a future version of pandas. This is the only engine in pandas that supports writing in the xls format. Install openpyxl and write to an xlsx file instead.\n",
      "  pd.reset_option('all')\n",
      "C:\\Users\\User\\AppData\\Local\\Temp\\ipykernel_4344\\438434282.py:10: FutureWarning: \n",
      ": boolean\n",
      "    use_inf_as_null had been deprecated and will be removed in a future\n",
      "    version. Use `use_inf_as_na` instead.\n",
      "\n",
      "  pd.reset_option('all')\n"
     ]
    }
   ],
   "source": [
    "# 依每筆貸款，整理出每期還款的最大延遲天數作為該期代表與是否延遲\n",
    "df2_1 = pd.DataFrame(df2.groupby(['SK_ID_CURR','SK_ID_PREV','NUM_INSTALMENT_NUMBER']).agg({'DAYS_ENTRY_PAYMENT':['max','min'],\n",
    "                                                                                                 'DAYS_ENTRY_DIFF':'max',\n",
    "                                                                                                 'AMT_PAYMENT':['median','max'],\n",
    "                                                                                                 'DELAY':'max'}))\n",
    "\n",
    "\n",
    "df2_1.columns = ['DAYS_ENTRY_PAYMENT_MAX','DAYS_ENTRY_PAYMENT_MIN','DAYS_ENTRY_DIFF','AMT_PAYMENT_MEDIAN','AMT_PAYMENT_MAX','DELAY']\n",
    "\n",
    "pd.reset_option('all')\n",
    "\n",
    "df2_1.reset_index(level='NUM_INSTALMENT_NUMBER',inplace=True) # 將其中一欄index改成表格資料\n",
    "df2_1.rename(columns={'NUM_INSTALMENT_NUMBER':'NUM_INSTALMENT_NUMBER_GROUP'},inplace=True)"
   ]
  },
  {
   "cell_type": "markdown",
   "metadata": {},
   "source": [
    "df2_2 依各人的時間 (NUM_INSTALMENT_NUMBER) 排序"
   ]
  },
  {
   "cell_type": "code",
   "execution_count": 4,
   "metadata": {},
   "outputs": [],
   "source": [
    "df2_2 = pd.DataFrame(df2_1.groupby(['SK_ID_CURR','SK_ID_PREV']).agg({'NUM_INSTALMENT_NUMBER_GROUP':['max','min'],\n",
    "                                                                           'DAYS_ENTRY_PAYMENT_MAX':'max',\n",
    "                                                                           'DAYS_ENTRY_PAYMENT_MIN':'min',\n",
    "                                                                           'DAYS_ENTRY_DIFF':['max','mean'],\n",
    "                                                                           'AMT_PAYMENT_MEDIAN':'median',\n",
    "                                                                           'AMT_PAYMENT_MAX':'max',\n",
    "                                                                           'DELAY':'sum'}))\n",
    "\n",
    "# 整理出每筆貸款分成幾次還與延遲次數\n",
    "df2_2.columns = ['NUM_INSTALMENT_NUMBER_GROUP_MAX',\n",
    "                    'NUM_INSTALMENT_NUMBER_GROUP_MIN',\n",
    "                    'DAYS_ENTRY_PAYMENT_MAX',\n",
    "                    'DAYS_ENTRY_PAYMENT_MIN',\n",
    "                    'DAYS_ENTRY_DIFF_MAX',\n",
    "                    'DAYS_ENTRY_DIFF_MEAN',\n",
    "                    'AMT_PAYMENT_MEDIAN',\n",
    "                    'AMT_PAYMENT_MAX',\n",
    "                    'DELAY_SUM']\n",
    "\n",
    "df2_2.reset_index(level=('SK_ID_CURR','SK_ID_PREV'),inplace=True)\n",
    "df2_2['DELAY%'] = df2_2['DELAY_SUM']/(df2_2['NUM_INSTALMENT_NUMBER_GROUP_MAX']-df2_2['NUM_INSTALMENT_NUMBER_GROUP_MIN']+1)"
   ]
  },
  {
   "cell_type": "markdown",
   "metadata": {},
   "source": [
    "df2_3 排除有 NA 的列"
   ]
  },
  {
   "cell_type": "code",
   "execution_count": 5,
   "metadata": {},
   "outputs": [
    {
     "name": "stderr",
     "output_type": "stream",
     "text": [
      "C:\\Users\\User\\AppData\\Local\\Temp\\ipykernel_4344\\4166145624.py:131: FutureWarning: column_space is deprecated and will be removed in a future version. Use df.to_string(col_space=...) instead.\n",
      "  pd.reset_option('all')\n",
      "C:\\Users\\User\\AppData\\Local\\Temp\\ipykernel_4344\\4166145624.py:131: FutureWarning: As the xlwt package is no longer maintained, the xlwt engine will be removed in a future version of pandas. This is the only engine in pandas that supports writing in the xls format. Install openpyxl and write to an xlsx file instead.\n",
      "  pd.reset_option('all')\n",
      "C:\\Users\\User\\AppData\\Local\\Temp\\ipykernel_4344\\4166145624.py:131: FutureWarning: \n",
      ": boolean\n",
      "    use_inf_as_null had been deprecated and will be removed in a future\n",
      "    version. Use `use_inf_as_na` instead.\n",
      "\n",
      "  pd.reset_option('all')\n"
     ]
    }
   ],
   "source": [
    "df2_3 = df2.dropna(axis=0,inplace=False).copy() # 先排除有NA的列\n",
    "\n",
    "# 先把一期貸款分多次償還的狀況整理好\n",
    "# 各期與各版本的繳款狀況均看最晚的，做為評估違約的可能性\n",
    "df2_3 = pd.DataFrame(df2_3.groupby(['SK_ID_CURR',\n",
    "                                        'SK_ID_PREV',\n",
    "                                        'NUM_INSTALMENT_NUMBER',\n",
    "                                        'NUM_INSTALMENT_VERSION']).agg({'DAYS_INSTALMENT':'max',\n",
    "                                                                        'DAYS_ENTRY_PAYMENT':'max',\n",
    "                                                                        'AMT_INSTALMENT':'mean',\n",
    "                                                                       'AMT_PAYMENT':'sum'}))\n",
    "\n",
    "df2_3.reset_index(level=('SK_ID_CURR','SK_ID_PREV','NUM_INSTALMENT_NUMBER','NUM_INSTALMENT_VERSION'),inplace=True)\n",
    "# 把另一種記帳型態整理好\n",
    "df2_3 = pd.DataFrame(df2_3.groupby(['SK_ID_CURR',\n",
    "                                        'SK_ID_PREV',\n",
    "                                        'NUM_INSTALMENT_NUMBER']).agg({'DAYS_INSTALMENT':'max',\n",
    "                                                                       'DAYS_ENTRY_PAYMENT':'max',\n",
    "                                                                       'AMT_INSTALMENT':'sum',\n",
    "                                                                       'AMT_PAYMENT':'mean'}))\n",
    "\n",
    "df2_3.reset_index(level=('SK_ID_CURR','SK_ID_PREV','NUM_INSTALMENT_NUMBER'),inplace=True)\n",
    "df2_3['1_DELAY'] = (df2_3['NUM_INSTALMENT_NUMBER']==1 & \n",
    "                        (df2_3['DAYS_INSTALMENT']<df2_3['DAYS_ENTRY_PAYMENT'])).replace(True,1)\n",
    "df2_3['1_gauge'] = (df2_3['NUM_INSTALMENT_NUMBER']==1).replace(True,1) # 判斷此列是否為第1列\n",
    "df2_3['1_gauge'].replace(0,np.nan,inplace=True)\n",
    "df2_3['1_DAYS_ENTRY_DIFF'] = df2_3['DAYS_ENTRY_PAYMENT']-df2_3['DAYS_INSTALMENT'] # 遲繳天數\n",
    "df2_3['1_DAYS_ENTRY_DIFF'] = df2_3['1_DAYS_ENTRY_DIFF']*df2_3['1_gauge'] # 將非第一列的遲繳天數改na\n",
    "\n",
    "df2_3['3_DELAY_tmp1'] = df2_3['NUM_INSTALMENT_NUMBER']<=3 # 條件判斷欄，是否為前三期\n",
    "df2_3['3_DELAY_tmp2'] = df2_3['DAYS_INSTALMENT']<df2_3['DAYS_ENTRY_PAYMENT']  # 條件判斷欄，是否遲繳\n",
    "df2_3['3_DELAY'] = (df2_3['3_DELAY_tmp1'] & df2_3['3_DELAY_tmp2']).replace(True,1) # 綜合前兩個條件\n",
    "df2_3['3_gauge'] = (df2_3['NUM_INSTALMENT_NUMBER']<=3).replace(True,1) # 判斷此列是否為前三期\n",
    "df2_3['3_gauge'].replace(0,np.nan,inplace=True)\n",
    "df2_3['3_DAYS_ENTRY_DIFF'] = df2_3['DAYS_ENTRY_PAYMENT']-df2_3['DAYS_INSTALMENT'] # 遲繳天數\n",
    "df2_3['3_DAYS_ENTRY_DIFF'] = df2_3['3_DAYS_ENTRY_DIFF']*df2_3['3_gauge'] # 將非前三列的遲繳天數改na\n",
    "\n",
    "df2_3['6_DELAY_tmp1'] = df2_3['NUM_INSTALMENT_NUMBER']<=6 # 新增前六期的狀況欄位，方法同上\n",
    "df2_3['6_DELAY_tmp2'] = df2_3['DAYS_INSTALMENT']<df2_3['DAYS_ENTRY_PAYMENT']\n",
    "df2_3['6_DELAY'] = (df2_3['6_DELAY_tmp1'] & df2_3['6_DELAY_tmp2']).replace(True,1)\n",
    "df2_3['6_gauge'] = (df2_3['NUM_INSTALMENT_NUMBER']<=6).replace(True,1)\n",
    "df2_3['6_gauge'].replace(0,np.nan,inplace=True)\n",
    "df2_3['6_DAYS_ENTRY_DIFF'] = df2_3['DAYS_ENTRY_PAYMENT']-df2_3['DAYS_INSTALMENT'] \n",
    "df2_3['6_DAYS_ENTRY_DIFF'] = df2_3['6_DAYS_ENTRY_DIFF']*df2_3['6_gauge'] \n",
    "\n",
    "df2_3['9_DELAY_tmp1'] = df2_3['NUM_INSTALMENT_NUMBER']<=9 # 新增前九期的狀況欄位，方法同上\n",
    "df2_3['9_DELAY_tmp2'] = df2_3['DAYS_INSTALMENT']<df2_3['DAYS_ENTRY_PAYMENT']\n",
    "df2_3['9_DELAY'] = (df2_3['9_DELAY_tmp1'] & df2_3['9_DELAY_tmp2']).replace(True,1)\n",
    "df2_3['9_gauge'] = (df2_3['NUM_INSTALMENT_NUMBER']<=9).replace(True,1)\n",
    "df2_3['9_gauge'].replace(0,np.nan,inplace=True)\n",
    "df2_3['9_DAYS_ENTRY_DIFF'] = df2_3['DAYS_ENTRY_PAYMENT']-df2_3['DAYS_INSTALMENT']\n",
    "df2_3['9_DAYS_ENTRY_DIFF'] = df2_3['9_DAYS_ENTRY_DIFF']*df2_3['9_gauge']\n",
    "\n",
    "df2_3.drop(columns=['1_gauge','3_gauge','3_DELAY_tmp1','3_DELAY_tmp2',\n",
    "                       '6_gauge','6_DELAY_tmp1','6_DELAY_tmp2',\n",
    "                       '9_gauge','9_DELAY_tmp1','9_DELAY_tmp2'],inplace=True)\n",
    "\n",
    "df2_3 = pd.merge(df2_3,df2_2.iloc[:,1:3])\n",
    "\n",
    "df2_3['-1_DELAY'] = ((df2_3['NUM_INSTALMENT_NUMBER']==df2_3['NUM_INSTALMENT_NUMBER_GROUP_MAX']) & \n",
    "                        (df2_3['DAYS_INSTALMENT']<df2_3['DAYS_ENTRY_PAYMENT'])).replace(True,1)\n",
    "df2_3['-1_gauge'] = (df2_3['NUM_INSTALMENT_NUMBER']==df2_3['NUM_INSTALMENT_NUMBER_GROUP_MAX']).replace(True,1) # 判斷此列是否為最後1列\n",
    "df2_3['-1_gauge'].replace(0,np.nan,inplace=True)\n",
    "df2_3['-1_DAYS_ENTRY_DIFF'] = df2_3['DAYS_ENTRY_PAYMENT']-df2_3['DAYS_INSTALMENT'] # 遲繳天數\n",
    "df2_3['-1_DAYS_ENTRY_DIFF'] = df2_3['-1_DAYS_ENTRY_DIFF']*df2_3['-1_gauge'] # 將非第一列的遲繳天數改na\n",
    "\n",
    "df2_3['-3_DELAY_tmp1'] = df2_3['NUM_INSTALMENT_NUMBER']>df2_3['NUM_INSTALMENT_NUMBER_GROUP_MAX']-3 # 條件判斷欄，是否為最後三期\n",
    "df2_3['-3_DELAY_tmp2'] = df2_3['DAYS_INSTALMENT']<df2_3['DAYS_ENTRY_PAYMENT']  # 條件判斷欄，是否遲繳\n",
    "df2_3['-3_DELAY'] = (df2_3['-3_DELAY_tmp1'] & df2_3['-3_DELAY_tmp2']).replace(True,1) # 綜合前兩個條件\n",
    "df2_3['-3_gauge'] = (df2_3['NUM_INSTALMENT_NUMBER']>df2_3['NUM_INSTALMENT_NUMBER_GROUP_MAX']-3).replace(True,1) # 判斷此列是否為最後三期\n",
    "df2_3['-3_gauge'].replace(0,np.nan,inplace=True)\n",
    "df2_3['-3_DAYS_ENTRY_DIFF'] = df2_3['DAYS_ENTRY_PAYMENT']-df2_3['DAYS_INSTALMENT'] # 遲繳天數\n",
    "df2_3['-3_DAYS_ENTRY_DIFF'] = df2_3['-3_DAYS_ENTRY_DIFF']*df2_3['-3_gauge'] # 將非最後三列的遲繳天數改na\n",
    "\n",
    "df2_3['-6_DELAY_tmp1'] = df2_3['NUM_INSTALMENT_NUMBER']>df2_3['NUM_INSTALMENT_NUMBER_GROUP_MAX']-6 # 新增最後六期的狀況欄位，方法同上\n",
    "df2_3['-6_DELAY_tmp2'] = df2_3['DAYS_INSTALMENT']<df2_3['DAYS_ENTRY_PAYMENT']\n",
    "df2_3['-6_DELAY'] = (df2_3['-6_DELAY_tmp1'] & df2_3['-6_DELAY_tmp2']).replace(True,1)\n",
    "df2_3['-6_gauge'] = (df2_3['NUM_INSTALMENT_NUMBER']>df2_3['NUM_INSTALMENT_NUMBER_GROUP_MAX']-6).replace(True,1)\n",
    "df2_3['-6_gauge'].replace(0,np.nan,inplace=True)\n",
    "df2_3['-6_DAYS_ENTRY_DIFF'] = df2_3['DAYS_ENTRY_PAYMENT']-df2_3['DAYS_INSTALMENT'] \n",
    "df2_3['-6_DAYS_ENTRY_DIFF'] = df2_3['-6_DAYS_ENTRY_DIFF']*df2_3['-6_gauge'] \n",
    "\n",
    "df2_3['-9_DELAY_tmp1'] = df2_3['NUM_INSTALMENT_NUMBER']>df2_3['NUM_INSTALMENT_NUMBER_GROUP_MAX']-9 # 新增最後九期的狀況欄位，方法同上\n",
    "df2_3['-9_DELAY_tmp2'] = df2_3['DAYS_INSTALMENT']<df2_3['DAYS_ENTRY_PAYMENT']\n",
    "df2_3['-9_DELAY'] = (df2_3['-9_DELAY_tmp1'] & df2_3['-9_DELAY_tmp2']).replace(True,1)\n",
    "df2_3['-9_gauge'] = (df2_3['NUM_INSTALMENT_NUMBER']>df2_3['NUM_INSTALMENT_NUMBER_GROUP_MAX']-9).replace(True,1)\n",
    "df2_3['-9_gauge'].replace(0,np.nan,inplace=True)\n",
    "df2_3['-9_DAYS_ENTRY_DIFF'] = df2_3['DAYS_ENTRY_PAYMENT']-df2_3['DAYS_INSTALMENT']\n",
    "df2_3['-9_DAYS_ENTRY_DIFF'] = df2_3['-9_DAYS_ENTRY_DIFF']*df2_3['-9_gauge']\n",
    "\n",
    "df2_3.drop(columns=['-1_gauge','-3_gauge','-3_DELAY_tmp1','-3_DELAY_tmp2',\n",
    "                       '-6_gauge','-6_DELAY_tmp1','-6_DELAY_tmp2',\n",
    "                       '-9_gauge','-9_DELAY_tmp1','-9_DELAY_tmp2'],inplace=True)\n",
    "\n",
    "df2_3 = pd.DataFrame(df2_3.groupby(['SK_ID_CURR',\n",
    "                                        'SK_ID_PREV']).agg({'AMT_INSTALMENT':'sum',\n",
    "                                                            'AMT_PAYMENT':'sum',\n",
    "                                                            '1_DELAY':'sum',\n",
    "                                                            '1_DAYS_ENTRY_DIFF':'max',\n",
    "                                                            '3_DELAY':'sum',\n",
    "                                                            '3_DAYS_ENTRY_DIFF':['max','mean'],\n",
    "                                                            '6_DELAY':'sum',\n",
    "                                                            '6_DAYS_ENTRY_DIFF':['max','mean'],\n",
    "                                                            '9_DELAY':'sum',\n",
    "                                                            '9_DAYS_ENTRY_DIFF':['max','mean'],\n",
    "                                                            '-1_DELAY':'sum',\n",
    "                                                            '-1_DAYS_ENTRY_DIFF':'max',\n",
    "                                                            '-3_DELAY':'sum',\n",
    "                                                            '-3_DAYS_ENTRY_DIFF':['max','mean'],\n",
    "                                                            '-6_DELAY':'sum',\n",
    "                                                            '-6_DAYS_ENTRY_DIFF':['max','mean'],\n",
    "                                                            '-9_DELAY':'sum',\n",
    "                                                            '-9_DAYS_ENTRY_DIFF':['max','mean']}))\n",
    "\n",
    "df2_3.columns = ['AMT_INSTALMENT','AMT_PAYMENT',\n",
    "                    '1_DELAY_SUM','1_DAYS_ENTRY_DIFF_MAX',\n",
    "                    '3_DELAY_SUM','3_DAYS_ENTRY_DIFF_MAX','3_DAYS_ENTRY_DIFF_MEAN',\n",
    "                    '6_DELAY_SUM','6_DAYS_ENTRY_DIFF_MAX','6_DAYS_ENTRY_DIFF_MEAN',\n",
    "                    '9_DELAY_SUM','9_DAYS_ENTRY_DIFF_MAX','9_DAYS_ENTRY_DIFF_MEAN',\n",
    "                    '-1_DELAY_SUM','-1_DAYS_ENTRY_DIFF_MAX',\n",
    "                    '-3_DELAY_SUM','-3_DAYS_ENTRY_DIFF_MAX','-3_DAYS_ENTRY_DIFF_MEAN',\n",
    "                    '-6_DELAY_SUM','-6_DAYS_ENTRY_DIFF_MAX','-6_DAYS_ENTRY_DIFF_MEAN',\n",
    "                    '-9_DELAY_SUM','-9_DAYS_ENTRY_DIFF_MAX','-9_DAYS_ENTRY_DIFF_MEAN']\n",
    "df2_3['FINISHED'] = (df2_3['AMT_INSTALMENT'] == df2_3['AMT_PAYMENT']).replace(True,1)\n",
    "df2_3['OUTSTANDING'] = df2_3['AMT_INSTALMENT'] - df2_3['AMT_PAYMENT'] # 新增一欄為欠款金額\n",
    "\n",
    "df2_3.reset_index(level=('SK_ID_CURR','SK_ID_PREV'),inplace=True)\n",
    "\n",
    "df2_3['FINISHED'] = (df2_3['OUTSTANDING']<1).replace(True,1) # 將FINISHED欄改成貸款未還小於1元皆為1\n",
    "\n",
    "pd.reset_option('all')\n",
    "\n",
    "df2_3.rename(columns={'AMT_INSTALMENT':'AMT_INSTALMENT_ALL','AMT_PAYMENT':'AMT_PAYMENT_ALL'},inplace=True)\n",
    "# 這兩欄為該筆貸款的預計總歸還金額、實際總歸還金額\n",
    "\n",
    "df2_3['3_DELAY_SUM'] = df2_3['3_DELAY_SUM']/3\n",
    "df2_3['6_DELAY_SUM'] = df2_3['6_DELAY_SUM']/6\n",
    "df2_3['9_DELAY_SUM'] = df2_3['9_DELAY_SUM']/9\n",
    "df2_3.rename(columns={'1_DELAY_SUM':'1_DELAY%','3_DELAY_SUM':'3_DELAY%',\n",
    "                         '6_DELAY_SUM':'6_DELAY%','9_DELAY_SUM':'9_DELAY%'},inplace=True)\n",
    "\n",
    "df2_3['-3_DELAY_SUM'] = df2_3['-3_DELAY_SUM']/3\n",
    "df2_3['-6_DELAY_SUM'] = df2_3['-6_DELAY_SUM']/6\n",
    "df2_3['-9_DELAY_SUM'] = df2_3['-9_DELAY_SUM']/9\n",
    "df2_3.rename(columns={'-1_DELAY_SUM':'-1_DELAY%','-3_DELAY_SUM':'-3_DELAY%',\n",
    "                         '-6_DELAY_SUM':'-6_DELAY%','-9_DELAY_SUM':'-9_DELAY%'},inplace=True)"
   ]
  },
  {
   "cell_type": "markdown",
   "metadata": {},
   "source": [
    "Merge to previous_application"
   ]
  },
  {
   "cell_type": "code",
   "execution_count": 6,
   "metadata": {},
   "outputs": [],
   "source": [
    "pre = pd.read_csv(\"D:/project/homecredit/previous_application.csv\")\n",
    "\n",
    "pre_arranged = pd.merge(pre,df2_2,how='outer')\n",
    "pre_arranged = pd.merge(pre_arranged,df2_3,how='outer')\n",
    "\n",
    "# pre_arranged.to_csv('D:/project/homecredit/final/prev_instalments_ETL_v2.csv',index = False)"
   ]
  },
  {
   "cell_type": "code",
   "execution_count": null,
   "metadata": {},
   "outputs": [],
   "source": [
    "# result = pd.merge(prev_comb_data, POS_data_1,how='outer')"
   ]
  }
 ],
 "metadata": {
  "kernelspec": {
   "display_name": "Python39",
   "language": "python",
   "name": "python3"
  },
  "language_info": {
   "codemirror_mode": {
    "name": "ipython",
    "version": 3
   },
   "file_extension": ".py",
   "mimetype": "text/x-python",
   "name": "python",
   "nbconvert_exporter": "python",
   "pygments_lexer": "ipython3",
   "version": "3.9.16"
  },
  "orig_nbformat": 4
 },
 "nbformat": 4,
 "nbformat_minor": 2
}
