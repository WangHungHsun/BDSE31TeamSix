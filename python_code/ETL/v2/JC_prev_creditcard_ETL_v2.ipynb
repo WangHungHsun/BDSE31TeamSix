{
 "cells": [
  {
   "cell_type": "code",
   "execution_count": 1,
   "metadata": {},
   "outputs": [],
   "source": [
    "import pandas as pd"
   ]
  },
  {
   "cell_type": "code",
   "execution_count": 2,
   "metadata": {},
   "outputs": [],
   "source": [
    "# df = pd.read_csv('./data/previous_application.csv')\n",
    "# df_CC = pd.read_csv(\"./data/credit_card_balance_ETL_v2.csv\")\n",
    "\n",
    "#Frank\n",
    "df = pd.read_csv('D:/project/homecredit/previous_application.csv')\n",
    "df_CC = pd.read_csv(\"D:/project/homecredit/final/credit_card_balance_ETL_v2.csv\")\n",
    "\n"
   ]
  },
  {
   "cell_type": "code",
   "execution_count": 3,
   "metadata": {},
   "outputs": [],
   "source": [
    "new_feature = []\n",
    "new_feature = ['AMT_DRAWINGS_ATM_MAX_CREDIT_LIMIT_MEDIAN _rate',\n",
    "               'AMT_DRAWINGS_OTHER_MAX_CREDIT_LIMIT_MEDIAN _rate',\n",
    "               'AMT_DRAWINGS_POS_MAX_CREDIT_LIMIT_MEDIAN _rate',\n",
    "               'AMT_DRAWINGS_ATM_MAX',\n",
    "               'AMT_DRAWINGS_OTHER_MAX',\n",
    "               'AMT_DRAWINGS_POS_MAX',\n",
    "               'CREDIT_LIMIT_MAX',\n",
    "               'AMT_TOTAL_RECEIVABLE_MAX',\n",
    "               'AMT_DRAWINGS_CURRENT_MAX',\n",
    "               'AMT_DRAWINGS_CURRENT_MIN_rate_MAX',\n",
    "               'AMT_RECEIVABLE_PRINCIPAL_MAX',\n",
    "               'AMT_DRAWINGS_ATM_MAX_CREDIT_LIMIT_MEDIAN _rate',\n",
    "               'AMT_DRAWINGS_OTHER_MAX_CREDIT_LIMIT_MEDIAN _rate',\n",
    "               'AMT_DRAWINGS_POS_MAX_CREDIT_LIMIT_MEDIAN _rate',\n",
    "               'ccb_SK_DPD_MAX',\n",
    "               'ccb_SK_DPD_DEF_MAX']"
   ]
  },
  {
   "cell_type": "markdown",
   "metadata": {},
   "source": [
    "MAX 欄位"
   ]
  },
  {
   "cell_type": "code",
   "execution_count": 4,
   "metadata": {},
   "outputs": [],
   "source": [
    "# 創建欄位\n",
    "dict_type = {}\n",
    "for i in new_feature:\n",
    "    dict_type[i] = ['max']\n",
    "num_aggregations = dict_type\n",
    "\n",
    "# MAX 欄位先放到 df_CC2\n",
    "df_CC2 = df_CC.groupby('SK_ID_CURR').agg({**num_aggregations})\n",
    "\n",
    "columns = []\n",
    "for m in df_CC2.columns:\n",
    "    columns.append(f'CC_{m}_max')\n",
    "df_CC2.columns = columns\n",
    "\n",
    "df_CC2.reset_index(level=('SK_ID_CURR'),inplace=True)"
   ]
  },
  {
   "cell_type": "markdown",
   "metadata": {},
   "source": [
    "min 欄位"
   ]
  },
  {
   "cell_type": "code",
   "execution_count": 5,
   "metadata": {},
   "outputs": [],
   "source": [
    "new_feature = []\n",
    "new_feature = ['AMT_DRAWINGS_ATM_MIN_CREDIT_LIMIT_MEDIAN _rate',\n",
    "               'AMT_DRAWINGS_OTHER_MIN_CREDIT_LIMIT_MEDIAN _rate',\n",
    "               'AMT_DRAWINGS_POS_MIN_CREDIT_LIMIT_MEDIAN _rate',\n",
    "               'AMT_DRAWINGS_ATM_MIN',\n",
    "               'AMT_DRAWINGS_OTHER_MIN',\n",
    "               'AMT_DRAWINGS_POS_MIN',\n",
    "               'CREDIT_LIMIT_MIN',\n",
    "               'AMT_DRAWINGS_CURRENT_MIN',\n",
    "               'AMT_DRAWINGS_CURRENT_MIN_rate_MIN',\n",
    "               'AMT_DRAWINGS_ATM_MIN_CREDIT_LIMIT_MEDIAN _rate',\n",
    "               'AMT_DRAWINGS_OTHER_MIN_CREDIT_LIMIT_MEDIAN _rate',\n",
    "               'AMT_DRAWINGS_POS_MIN_CREDIT_LIMIT_MEDIAN _rate']"
   ]
  },
  {
   "cell_type": "code",
   "execution_count": 6,
   "metadata": {},
   "outputs": [],
   "source": [
    "dict_type = {}\n",
    "for i in new_feature:\n",
    "    dict_type[i] = ['min']\n",
    "num_aggregations = dict_type\n",
    "\n",
    "df_CC3 = df_CC.groupby('SK_ID_CURR').agg({**num_aggregations})\n",
    "\n",
    "columns = []\n",
    "for m in df_CC3.columns:\n",
    "    columns.append(f'CC_{m}_min')\n",
    "df_CC3.columns = columns\n",
    "\n",
    "df_CC3.reset_index(level=('SK_ID_CURR'),inplace=True)"
   ]
  },
  {
   "cell_type": "markdown",
   "metadata": {},
   "source": [
    "median 欄位"
   ]
  },
  {
   "cell_type": "code",
   "execution_count": 7,
   "metadata": {},
   "outputs": [],
   "source": [
    "new_feature = []\n",
    "new_feature = ['AMT_DRAWINGS_ATM_SUM_CREDIT_LIMIT_MEDIAN _rate',\n",
    "               'AMT_DRAWINGS_OTHER_SUM_CREDIT_LIMIT_MEDIAN _rate',\n",
    "               'AMT_DRAWINGS_POS_SUM_CREDIT_LIMIT_MEDIAN _rate',\n",
    "               'AMT_DRAWINGS_ATM_ALL_DRAWINGS_rate',\n",
    "               'AMT_DRAWINGS_OTHER_ALL_DRAWINGS_rate',\n",
    "               'AMT_DRAWINGS_POS_ALL_DRAWINGS_rate',\n",
    "               'CREDIT_LIMIT_MEDIAN',\n",
    "               'CREDIT_LIMIT_MOST_RECENT',\n",
    "               'CREDIT_LIMIT_FAREST',\n",
    "               'AMT_PAYMENT_TOTAL_CURRENT_MIN_REGULARITY_mean_rate',\n",
    "               'AMT_PAYMENT_CURRENT_MIN_REGULARITY_mean_rate',\n",
    "               'AMT_DRAWINGS_CURRENT_CNT_CREDIT_LIMIT_rate',\n",
    "               'AMT_DRAWINGS_CURRENT_CNT_rate',\n",
    "               'CREDIT_ACTIVE_Active_rate',\n",
    "               'CREDIT_ACTIVE_Approved_rate',\n",
    "               'CREDIT_ACTIVE_Completed_rate',\n",
    "               'CREDIT_ACTIVE_Demand_rate',\n",
    "               'CREDIT_ACTIVE_Refused_rate',\n",
    "               'CREDIT_ACTIVE_Sent proposal_rate',\n",
    "               'CREDIT_ACTIVE_Signed_rate',\n",
    "               'ccb_SK_DPD_MEAN',\n",
    "               'ccb_SK_DPD_DEF_MEAN',\n",
    "                ]"
   ]
  },
  {
   "cell_type": "code",
   "execution_count": 8,
   "metadata": {},
   "outputs": [],
   "source": [
    "dict_type = {}\n",
    "for i in new_feature:\n",
    "    dict_type[i] = ['median']\n",
    "num_aggregations = dict_type\n",
    "\n",
    "df_CC4 = df_CC.groupby('SK_ID_CURR').agg({**num_aggregations})\n",
    "\n",
    "columns = []\n",
    "for m in df_CC4.columns:\n",
    "    columns.append(f'CC_{m}_min')\n",
    "df_CC4.columns = columns\n",
    "\n",
    "df_CC4.reset_index(level=('SK_ID_CURR'),inplace=True)"
   ]
  },
  {
   "cell_type": "markdown",
   "metadata": {},
   "source": [
    "Merge"
   ]
  },
  {
   "cell_type": "code",
   "execution_count": 9,
   "metadata": {},
   "outputs": [],
   "source": [
    "df_CC2 = pd.merge(df_CC2,df_CC3,how='left')\n",
    "df_CC2 = pd.merge(df_CC2,df_CC4,how='left')"
   ]
  },
  {
   "cell_type": "code",
   "execution_count": 10,
   "metadata": {},
   "outputs": [
    {
     "data": {
      "text/plain": [
       "(103558, 45)"
      ]
     },
     "execution_count": 10,
     "metadata": {},
     "output_type": "execute_result"
    }
   ],
   "source": [
    "df_CC2.shape"
   ]
  },
  {
   "cell_type": "code",
   "execution_count": 11,
   "metadata": {},
   "outputs": [],
   "source": [
    "#Frank\n",
    "# df_CC2.to_csv('D:/project/homecredit/final/prev_creditcard_ETL_v2.csv',index = False)"
   ]
  }
 ],
 "metadata": {
  "kernelspec": {
   "display_name": "base",
   "language": "python",
   "name": "python3"
  },
  "language_info": {
   "codemirror_mode": {
    "name": "ipython",
    "version": 3
   },
   "file_extension": ".py",
   "mimetype": "text/x-python",
   "name": "python",
   "nbconvert_exporter": "python",
   "pygments_lexer": "ipython3",
   "version": "3.9.16"
  },
  "orig_nbformat": 4
 },
 "nbformat": 4,
 "nbformat_minor": 2
}
