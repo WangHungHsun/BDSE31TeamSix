{
 "cells": [
  {
   "cell_type": "code",
   "execution_count": 1,
   "metadata": {},
   "outputs": [],
   "source": [
    "import pandas as pd"
   ]
  },
  {
   "cell_type": "code",
   "execution_count": 2,
   "metadata": {},
   "outputs": [
    {
     "name": "stderr",
     "output_type": "stream",
     "text": [
      "C:\\Users\\User\\AppData\\Local\\Temp\\ipykernel_5936\\2895262134.py:2: DtypeWarning: Columns (2,8,10,15,16,18,19,20,21,22,23,24,25,27,29,30) have mixed types. Specify dtype option on import or set low_memory=False.\n",
      "  df_inst = pd.read_csv(\"D:/project/homecredit/final/prev_instalments_ETL_v2.csv\")\n"
     ]
    }
   ],
   "source": [
    "df_pos = pd.read_csv('D:/project/homecredit/final/POS_CASH_balance_ETL_v2.csv')\n",
    "df_inst = pd.read_csv(\"D:/project/homecredit/final/prev_instalments_ETL_v2.csv\")\n",
    "\n",
    "df_IP = pd.merge(df_inst, df_pos,how='outer')"
   ]
  },
  {
   "cell_type": "code",
   "execution_count": 4,
   "metadata": {},
   "outputs": [],
   "source": [
    "df_IP['AMT_PAYMENT_MEDIAN%'] = df_IP['AMT_PAYMENT_MEDIAN']/df_IP['AMT_INSTALMENT_ALL']\n",
    "df_IP['AMT_PAYMENT_MAX%'] = df_IP['AMT_PAYMENT_MAX']/df_IP['AMT_INSTALMENT_ALL']\n",
    "df_IP['AMT_PAYMENT_MEDIAN/ANNUITY'] = df_IP['AMT_PAYMENT_MEDIAN']/df_IP['AMT_ANNUITY']\n",
    "df_IP['AMT_PAYMENT_MAX/ANNUITY'] = df_IP['AMT_PAYMENT_MAX']/df_IP['AMT_ANNUITY']\n",
    "df_IP['AMT_PAYMENT_MEDIAN/CREDIT'] = df_IP['AMT_PAYMENT_MEDIAN']/df_IP['AMT_CREDIT']\n",
    "df_IP['AMT_PAYMENT_MAX/CREDIT'] = df_IP['AMT_PAYMENT_MAX']/df_IP['AMT_CREDIT']\n",
    "df_IP['PAYMENT_MAX/MEDIAN'] = df_IP['AMT_PAYMENT_MAX']/df_IP['AMT_PAYMENT_MEDIAN']"
   ]
  },
  {
   "cell_type": "markdown",
   "metadata": {},
   "source": [
    "只參考貸款核准下的數值"
   ]
  },
  {
   "cell_type": "code",
   "execution_count": 5,
   "metadata": {},
   "outputs": [],
   "source": [
    "df_IP_A = df_IP[df_IP['NAME_CONTRACT_STATUS']=='Approved'].copy()\n",
    "df_IP_A['Annuity/Credit'] = df_IP_A['AMT_ANNUITY']/df_IP_A['AMT_CREDIT']\n",
    "df_IP_A['APPLICATION/CREDIT'] = df_IP_A['AMT_APPLICATION']/df_IP_A['AMT_CREDIT']\n",
    "df_IP_A['DOWN_PAYMENT/ANNUITY'] = df_IP_A['AMT_DOWN_PAYMENT']/df_IP_A['AMT_ANNUITY']\n",
    "df_IP_A['DOWN_PAYMENT/CREDIT'] = df_IP_A['AMT_DOWN_PAYMENT']/df_IP_A['AMT_CREDIT']\n",
    "df_IP_A['DOWN_PAYMENT/ANNUITY'] = df_IP_A['AMT_DOWN_PAYMENT']/df_IP_A['AMT_ANNUITY']\n",
    "df_IP_A['GOODS_PRICE/CREDIT'] = df_IP_A['AMT_GOODS_PRICE']/df_IP_A['AMT_CREDIT']\n",
    "df_IP_A['APPLICATION/CREDIT'] = df_IP_A['AMT_APPLICATION']/df_IP_A['AMT_CREDIT']\n",
    "df_IP_A['APPLICATION/GOODS_PRICE'] = df_IP_A['AMT_APPLICATION']/df_IP_A['AMT_GOODS_PRICE']\n",
    "df_IP_A['Delay_Rate/(ANNUITY/CREDIT)'] = df_IP_A['Delay_Rate']/df_IP_A['Annuity/Credit']\n",
    "df_IP_A['SK_DPD_mean/(ANNUITY/CREDIT)'] = df_IP_A['SK_DPD_mean']/df_IP_A['Annuity/Credit']\n",
    "df_IP_A['SK_DPD_max/(ANNUITY/CREDIT)'] = df_IP_A['SK_DPD_max']/df_IP_A['Annuity/Credit']"
   ]
  },
  {
   "cell_type": "code",
   "execution_count": 7,
   "metadata": {},
   "outputs": [],
   "source": [
    "col_to_convert =   ['RATE_INTEREST_PRIVILEGED', 'Delay_Rate', 'Delay_Rate/(ANNUITY/CREDIT)', 'SK_DPD_max',\n",
    "                   'SK_DPD_mean', 'SK_DPD_mean/(ANNUITY/CREDIT)', 'SK_DPD_max/(ANNUITY/CREDIT)',\n",
    "                   'Contract_Change_count', 'CNT_INSTALMENT/Total_Months_rate', 'Contract_Change_rate(CNT_INSTALMENT)',\n",
    "                   'Contract_Change_rate(Total_Months)', 'DAYS_ENTRY_DIFF_MAX', 'DAYS_ENTRY_DIFF_MEAN',\n",
    "                   'AMT_PAYMENT_MEDIAN', 'AMT_PAYMENT_MEDIAN%', 'AMT_PAYMENT_MAX', 'AMT_PAYMENT_MAX%',\n",
    "                   'AMT_PAYMENT_MEDIAN/ANNUITY', 'AMT_PAYMENT_MAX/ANNUITY', 'AMT_PAYMENT_MEDIAN/CREDIT',\n",
    "                   'AMT_PAYMENT_MAX/CREDIT', 'PAYMENT_MAX/MEDIAN', 'DELAY%', 'FINISHED', 'OUTSTANDING',\n",
    "                   'AMT_PAYMENT_ALL', '1_DELAY%', '1_DAYS_ENTRY_DIFF_MAX', '3_DELAY%', '3_DAYS_ENTRY_DIFF_MAX',\n",
    "                   '3_DAYS_ENTRY_DIFF_MEAN', '6_DELAY%', '6_DAYS_ENTRY_DIFF_MAX', '6_DAYS_ENTRY_DIFF_MEAN',\n",
    "                   '9_DELAY%', '9_DAYS_ENTRY_DIFF_MAX', '9_DAYS_ENTRY_DIFF_MEAN', '-1_DELAY%', '-1_DAYS_ENTRY_DIFF_MAX',\n",
    "                   '-3_DELAY%', '-3_DAYS_ENTRY_DIFF_MAX', '-3_DAYS_ENTRY_DIFF_MEAN', '-6_DELAY%', '-6_DAYS_ENTRY_DIFF_MAX',\n",
    "                   '-6_DAYS_ENTRY_DIFF_MEAN', '-9_DELAY%', '-9_DAYS_ENTRY_DIFF_MAX', '-9_DAYS_ENTRY_DIFF_MEAN','DELAY_SUM', '1_DELAY%', '-1_DELAY%']\n",
    "\n",
    "for col in col_to_convert:\n",
    "    df_IP_A[col] = df_IP_A[col].replace('False', 0)\n"
   ]
  },
  {
   "cell_type": "code",
   "execution_count": 9,
   "metadata": {},
   "outputs": [
    {
     "name": "stdout",
     "output_type": "stream",
     "text": [
      "RATE_INTEREST_PRIVILEGED                float64\n",
      "Delay_Rate                              float64\n",
      "Delay_Rate/(ANNUITY/CREDIT)             float64\n",
      "SK_DPD_max                              float64\n",
      "SK_DPD_mean                             float64\n",
      "SK_DPD_mean/(ANNUITY/CREDIT)            float64\n",
      "SK_DPD_max/(ANNUITY/CREDIT)             float64\n",
      "Contract_Change_count                   float64\n",
      "CNT_INSTALMENT/Total_Months_rate        float64\n",
      "Contract_Change_rate(CNT_INSTALMENT)    float64\n",
      "Contract_Change_rate(Total_Months)      float64\n",
      "DAYS_ENTRY_DIFF_MAX                     float64\n",
      "DAYS_ENTRY_DIFF_MEAN                    float64\n",
      "AMT_PAYMENT_MEDIAN                      float64\n",
      "AMT_PAYMENT_MEDIAN%                     float64\n",
      "AMT_PAYMENT_MAX                         float64\n",
      "AMT_PAYMENT_MAX%                        float64\n",
      "AMT_PAYMENT_MEDIAN/ANNUITY              float64\n",
      "AMT_PAYMENT_MAX/ANNUITY                 float64\n",
      "AMT_PAYMENT_MEDIAN/CREDIT               float64\n",
      "AMT_PAYMENT_MAX/CREDIT                  float64\n",
      "PAYMENT_MAX/MEDIAN                      float64\n",
      "DELAY%                                  float64\n",
      "FINISHED                                float64\n",
      "OUTSTANDING                             float64\n",
      "AMT_PAYMENT_ALL                         float64\n",
      "1_DELAY%                                float64\n",
      "1_DAYS_ENTRY_DIFF_MAX                   float64\n",
      "3_DELAY%                                float64\n",
      "3_DAYS_ENTRY_DIFF_MAX                   float64\n",
      "3_DAYS_ENTRY_DIFF_MEAN                  float64\n",
      "6_DELAY%                                float64\n",
      "6_DAYS_ENTRY_DIFF_MAX                   float64\n",
      "6_DAYS_ENTRY_DIFF_MEAN                  float64\n",
      "9_DELAY%                                float64\n",
      "9_DAYS_ENTRY_DIFF_MAX                   float64\n",
      "9_DAYS_ENTRY_DIFF_MEAN                  float64\n",
      "-1_DELAY%                               float64\n",
      "-1_DAYS_ENTRY_DIFF_MAX                  float64\n",
      "-3_DELAY%                               float64\n",
      "-3_DAYS_ENTRY_DIFF_MAX                  float64\n",
      "-3_DAYS_ENTRY_DIFF_MEAN                 float64\n",
      "-6_DELAY%                               float64\n",
      "-6_DAYS_ENTRY_DIFF_MAX                  float64\n",
      "-6_DAYS_ENTRY_DIFF_MEAN                 float64\n",
      "-9_DELAY%                               float64\n",
      "-9_DAYS_ENTRY_DIFF_MAX                  float64\n",
      "-9_DAYS_ENTRY_DIFF_MEAN                 float64\n",
      "DELAY_SUM                               float64\n",
      "1_DELAY%                                float64\n",
      "-1_DELAY%                               float64\n",
      "dtype: object\n"
     ]
    }
   ],
   "source": [
    "for col in col_to_convert:\n",
    "    df_IP_A[col] = df_IP_A[col].apply(pd.to_numeric, errors='coerce')\n",
    "\n",
    "# 檢查轉換後的數據類型\n",
    "print(df_IP_A[col_to_convert].dtypes)\n"
   ]
  },
  {
   "cell_type": "code",
   "execution_count": 10,
   "metadata": {},
   "outputs": [],
   "source": [
    "df_IP_A2 = pd.DataFrame(df_IP_A.groupby('SK_ID_CURR').agg({'RATE_INTEREST_PRIMARY':['median','max','min'],\n",
    "                                      'RATE_INTEREST_PRIVILEGED':['median','max','min'],\n",
    "                                      'Delay_Rate':['max','median'],\n",
    "                                      'Delay_Rate/(ANNUITY/CREDIT)':['max','median'],\n",
    "                                      'SK_DPD_max':['max','mean'],\n",
    "                                      'SK_DPD_mean':'mean',\n",
    "                                      'SK_DPD_mean/(ANNUITY/CREDIT)':'mean',\n",
    "                                      'SK_DPD_max/(ANNUITY/CREDIT)':['mean','max'],\n",
    "                                      'Contract_Change_count':'mean',\n",
    "                                      'CNT_INSTALMENT/Total_Months_rate':'mean',\n",
    "                                      'Contract_Change_rate(CNT_INSTALMENT)':'mean',\n",
    "                                      'Contract_Change_rate(Total_Months)':'mean',\n",
    "                                      'DAYS_ENTRY_DIFF_MAX':['max','median'],\n",
    "                                      'DAYS_ENTRY_DIFF_MEAN':'mean',\n",
    "                                      'AMT_PAYMENT_MEDIAN':'median',\n",
    "                                      'AMT_PAYMENT_MEDIAN%':'median',\n",
    "                                      'AMT_PAYMENT_MAX':['median','max'],\n",
    "                                      'AMT_PAYMENT_MAX%':['median','max'],\n",
    "                                      'AMT_PAYMENT_MEDIAN/ANNUITY':'median',\n",
    "                                      'AMT_PAYMENT_MAX/ANNUITY':['median','max'],\n",
    "                                      'AMT_PAYMENT_MEDIAN/CREDIT':'median',\n",
    "                                      'AMT_PAYMENT_MAX/CREDIT':['median','max'],\n",
    "                                      'PAYMENT_MAX/MEDIAN':['max','min','median'],\n",
    "                                      'DELAY%':['mean','max'],\n",
    "                                      'FINISHED':['sum','count'],\n",
    "                                      'OUTSTANDING':'sum',\n",
    "                                      'AMT_PAYMENT_ALL':'mean',\n",
    "                                      '1_DELAY%':'mean',\n",
    "                                      '1_DAYS_ENTRY_DIFF_MAX':['mean','max'],\n",
    "                                      '3_DELAY%':'mean',\n",
    "                                      '3_DAYS_ENTRY_DIFF_MAX':['mean','max'],\n",
    "                                      '3_DAYS_ENTRY_DIFF_MEAN':['mean','max'],\n",
    "                                      '6_DELAY%':'mean',\n",
    "                                      '6_DAYS_ENTRY_DIFF_MAX':['mean','max'],\n",
    "                                      '6_DAYS_ENTRY_DIFF_MEAN':['mean','max'],\n",
    "                                      '9_DELAY%':'mean',\n",
    "                                      '9_DAYS_ENTRY_DIFF_MAX':['mean','max'],\n",
    "                                      '9_DAYS_ENTRY_DIFF_MEAN':['mean','max'],\n",
    "                                      '-1_DELAY%':'mean',\n",
    "                                      '-1_DAYS_ENTRY_DIFF_MAX':['mean','max'],\n",
    "                                      '-3_DELAY%':'mean',\n",
    "                                      '-3_DAYS_ENTRY_DIFF_MAX':['mean','max'],\n",
    "                                      '-3_DAYS_ENTRY_DIFF_MEAN':['mean','max'],\n",
    "                                      '-6_DELAY%':'mean',\n",
    "                                      '-6_DAYS_ENTRY_DIFF_MAX':['mean','max'],\n",
    "                                      '-6_DAYS_ENTRY_DIFF_MEAN':['mean','max'],\n",
    "                                      '-9_DELAY%':'mean',\n",
    "                                      '-9_DAYS_ENTRY_DIFF_MAX':['mean','max'],\n",
    "                                      '-9_DAYS_ENTRY_DIFF_MEAN':['mean','max']}))"
   ]
  },
  {
   "cell_type": "code",
   "execution_count": 14,
   "metadata": {},
   "outputs": [],
   "source": [
    "df_IP_A2.columns=['RATE_INTEREST_PRIMARY_median',\n",
    "                     'RATE_INTEREST_PRIMARY_max',\n",
    "                    'RATE_INTEREST_PRIMARY_min',\n",
    "                    'RATE_INTEREST_PRIVILEGED_median',\n",
    "                    'RATE_INTEREST_PRIVILEGED_max',\n",
    "                    'RATE_INTEREST_PRIVILEGED_min',\n",
    "                    'Delay_Rate_max',\n",
    "                    'Delay_Rate_median',\n",
    "                    'Delay_Rate/(ANNUITY/CREDIT)_max',\n",
    "                    'Delay_Rate/(ANNUITY/CREDIT)_median',\n",
    "                    'SK_DPD_max_max',\n",
    "                    'SK_DPD_max_mean',\n",
    "                    'SK_DPD_mean_mean',\n",
    "                    'SK_DPD_mean/(ANNUITY/CREDIT)_mean',\n",
    "                    'SK_DPD_max/(ANNUITY/CREDIT)_max',\n",
    "                    'SK_DPD_max/(ANNUITY/CREDIT)_mean',\n",
    "                    'Contract_Change_Count_mean',\n",
    "                    'CNT_INSTALMENT/Total_Months_rate_mean',\n",
    "                    'Contract_Change_rate(CNT_INSTALMENT)_mean',\n",
    "                    'Contract_Change_rate(Total_Months)_mean',\n",
    "                    'DAYS_ENTRY_DIFF_MAX_max',\n",
    "                    'DAYS_ENTRY_DIFF_MAX_median',\n",
    "                    'DAYS_ENTRY_DIFF_MEAN_mean',\n",
    "                    'AMT_PAYMENT_MEDIAN_median',\n",
    "                    'AMT_PAYMENT_MEDIAN%_median',\n",
    "                    'AMT_PAYMENT_MAX_median',\n",
    "                    'AMT_PAYMENT_MAX_max',\n",
    "                    'AMT_PAYMENT_MAX%_median',\n",
    "                    'AMT_PAYMENT_MAX%_max',\n",
    "                    'AMT_PAYMENT_MEDIAN/ANNUITY_median',\n",
    "                    'AMT_PAYMENT_MAX/ANNUITY_median',\n",
    "                    'AMT_PAYMENT_MAX/ANNUITY_max',\n",
    "                    'AMT_PAYMENT_MEDIAN/CREDIT_median',\n",
    "                    'AMT_PAYMENT_MAX/CREDIT_median',\n",
    "                    'AMT_PAYMENT_MAX/CREDIT_max',\n",
    "                    'PAYMENT_MAX/MEDIAN_max',\n",
    "                    'PAYMENT_MAX/MEDIAN_min',\n",
    "                    'PAYMENT_MAX/MEDIAN_median',\n",
    "                    'DELAY%_mean',\n",
    "                    'DELAY%_max',\n",
    "                    'FINISHED_sum',\n",
    "                    'FINISHED_count',\n",
    "                    'OUTSTANDING_sum',\n",
    "                    'AMT_PAYMENT_ALL_mean',\n",
    "                    '1_DELAY%_mean',\n",
    "                    '1_DAYS_ENTRY_DIFF_MAX_mean',\n",
    "                    '1_DAYS_ENTRY_DIFF_MAX_max',\n",
    "                    '3_DELAY%_mean',\n",
    "                    '3_DAYS_ENTRY_DIFF_MAX_mean',\n",
    "                    '3_DAYS_ENTRY_DIFF_MAX_max',\n",
    "                    '3_DAYS_ENTRY_DIFF_MEAN_mean',\n",
    "                    '3_DAYS_ENTRY_DIFF_MEAN_max',\n",
    "                    '6_DELAY%_mean',\n",
    "                    '6_DAYS_ENTRY_DIFF_MAX_mean',\n",
    "                    '6_DAYS_ENTRY_DIFF_MAX_max',\n",
    "                    '6_DAYS_ENTRY_DIFF_MEAN_mean',\n",
    "                    '6_DAYS_ENTRY_DIFF_MEAN_max',\n",
    "                    '9_DELAY%_mean',\n",
    "                    '9_DAYS_ENTRY_DIFF_MAX_mean',\n",
    "                    '9_DAYS_ENTRY_DIFF_MAX_max',\n",
    "                    '9_DAYS_ENTRY_DIFF_MEAN_mean',\n",
    "                    '9_DAYS_ENTRY_DIFF_MEAN_max',\n",
    "                    '-1_DELAY%_mean',\n",
    "                    '-1_DAYS_ENTRY_DIFF_MAX_mean',\n",
    "                    '-1_DAYS_ENTRY_DIFF_MAX_max',\n",
    "                    '-3_DELAY%_mean',\n",
    "                    '-3_DAYS_ENTRY_DIFF_MAX_mean',\n",
    "                    '-3_DAYS_ENTRY_DIFF_MAX_max',\n",
    "                    '-3_DAYS_ENTRY_DIFF_MEAN_mean',\n",
    "                    '-3_DAYS_ENTRY_DIFF_MEAN_max',\n",
    "                    '-6_DELAY%_mean',\n",
    "                    '-6_DAYS_ENTRY_DIFF_MAX_mean',\n",
    "                    '-6_DAYS_ENTRY_DIFF_MAX_max',\n",
    "                    '-6_DAYS_ENTRY_DIFF_MEAN_mean',\n",
    "                    '-6_DAYS_ENTRY_DIFF_MEAN_max',\n",
    "                    '-9_DELAY%_mean',\n",
    "                    '-9_DAYS_ENTRY_DIFF_MAX_mean',\n",
    "                    '-9_DAYS_ENTRY_DIFF_MAX_max',\n",
    "                    '-9_DAYS_ENTRY_DIFF_MEAN_mean',\n",
    "                    '-9_DAYS_ENTRY_DIFF_MEAN_max']"
   ]
  },
  {
   "cell_type": "code",
   "execution_count": 16,
   "metadata": {},
   "outputs": [],
   "source": [
    "df_IP_A2['FINISHED%'] = df_IP_A2['FINISHED_sum']/df_IP_A2['FINISHED_count']\n",
    "df_IP_A2.drop(columns=['FINISHED_sum','FINISHED_count'],inplace=True)"
   ]
  },
  {
   "cell_type": "code",
   "execution_count": 20,
   "metadata": {},
   "outputs": [],
   "source": [
    "df_IP_A2.reset_index(level='SK_ID_CURR',inplace=True)\n",
    "# df_IP_A2.to_csv('D:/project/homecredit/final/prev_pos_instalments_ETL_v2.csv',index = False)"
   ]
  },
  {
   "cell_type": "code",
   "execution_count": null,
   "metadata": {},
   "outputs": [],
   "source": [
    "df_inst"
   ]
  }
 ],
 "metadata": {
  "kernelspec": {
   "display_name": "base",
   "language": "python",
   "name": "python3"
  },
  "language_info": {
   "codemirror_mode": {
    "name": "ipython",
    "version": 3
   },
   "file_extension": ".py",
   "mimetype": "text/x-python",
   "name": "python",
   "nbconvert_exporter": "python",
   "pygments_lexer": "ipython3",
   "version": "3.9.16"
  },
  "orig_nbformat": 4
 },
 "nbformat": 4,
 "nbformat_minor": 2
}
