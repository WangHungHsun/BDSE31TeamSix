{
 "cells": [
  {
   "cell_type": "code",
   "execution_count": 1,
   "metadata": {},
   "outputs": [],
   "source": [
    "import numpy as np\n",
    "import pandas as pd"
   ]
  },
  {
   "cell_type": "code",
   "execution_count": 2,
   "metadata": {},
   "outputs": [],
   "source": [
    "bb = pd.read_csv(\"D:/project/homecredit/bureau_balance.csv\")\n",
    "\n",
    "bureau = pd.read_csv(\"D:/project/homecredit/bureau.csv\", usecols=['SK_ID_CURR', 'SK_ID_BUREAU'])\n",
    "\n",
    "\n",
    "bb.sort_values(by=['SK_ID_BUREAU','MONTHS_BALANCE'],inplace=True)\n",
    "bureau.sort_values(by=['SK_ID_CURR', 'SK_ID_BUREAU'],inplace=True)"
   ]
  },
  {
   "cell_type": "code",
   "execution_count": 3,
   "metadata": {},
   "outputs": [],
   "source": [
    "total_status_count = pd.crosstab(bb['SK_ID_BUREAU'], bb['STATUS'],normalize=0)\n",
    "total_status_count.rename(columns={'0':'total_status_0%','1':'total_status_1%','2':'total_status_2%',\n",
    "                                '3':'total_status_3%','4':'total_status_4%','5':'total_status_5%',\n",
    "                                'C':'total_status_C%','X':'total_status_X%'},inplace=True) \n",
    "total_status_count.reset_index(level='SK_ID_BUREAU',inplace=True)"
   ]
  },
  {
   "cell_type": "code",
   "execution_count": 4,
   "metadata": {},
   "outputs": [
    {
     "data": {
      "text/html": [
       "<div>\n",
       "<style scoped>\n",
       "    .dataframe tbody tr th:only-of-type {\n",
       "        vertical-align: middle;\n",
       "    }\n",
       "\n",
       "    .dataframe tbody tr th {\n",
       "        vertical-align: top;\n",
       "    }\n",
       "\n",
       "    .dataframe thead th {\n",
       "        text-align: right;\n",
       "    }\n",
       "</style>\n",
       "<table border=\"1\" class=\"dataframe\">\n",
       "  <thead>\n",
       "    <tr style=\"text-align: right;\">\n",
       "      <th></th>\n",
       "      <th>SK_ID_BUREAU</th>\n",
       "      <th>MONTHS_BALANCE</th>\n",
       "      <th>STATUS</th>\n",
       "      <th>MONTHS_BALANC_MAX</th>\n",
       "    </tr>\n",
       "  </thead>\n",
       "  <tbody>\n",
       "    <tr>\n",
       "      <th>0</th>\n",
       "      <td>5001709</td>\n",
       "      <td>-96</td>\n",
       "      <td>X</td>\n",
       "      <td>0</td>\n",
       "    </tr>\n",
       "    <tr>\n",
       "      <th>1</th>\n",
       "      <td>5001709</td>\n",
       "      <td>-95</td>\n",
       "      <td>X</td>\n",
       "      <td>0</td>\n",
       "    </tr>\n",
       "    <tr>\n",
       "      <th>2</th>\n",
       "      <td>5001709</td>\n",
       "      <td>-94</td>\n",
       "      <td>X</td>\n",
       "      <td>0</td>\n",
       "    </tr>\n",
       "    <tr>\n",
       "      <th>3</th>\n",
       "      <td>5001709</td>\n",
       "      <td>-93</td>\n",
       "      <td>X</td>\n",
       "      <td>0</td>\n",
       "    </tr>\n",
       "    <tr>\n",
       "      <th>4</th>\n",
       "      <td>5001709</td>\n",
       "      <td>-92</td>\n",
       "      <td>X</td>\n",
       "      <td>0</td>\n",
       "    </tr>\n",
       "  </tbody>\n",
       "</table>\n",
       "</div>"
      ],
      "text/plain": [
       "   SK_ID_BUREAU  MONTHS_BALANCE STATUS  MONTHS_BALANC_MAX\n",
       "0       5001709             -96      X                  0\n",
       "1       5001709             -95      X                  0\n",
       "2       5001709             -94      X                  0\n",
       "3       5001709             -93      X                  0\n",
       "4       5001709             -92      X                  0"
      ]
     },
     "execution_count": 4,
     "metadata": {},
     "output_type": "execute_result"
    }
   ],
   "source": [
    "bb_g_id = pd.DataFrame(bb.groupby('SK_ID_BUREAU')['MONTHS_BALANCE'].max())\n",
    "bb_g_id.reset_index(level='SK_ID_BUREAU',inplace=True)\n",
    "bb_g_id.rename(columns={'MONTHS_BALANCE':'MONTHS_BALANC_MAX'},inplace=True)\n",
    "bb_m = pd.merge(bb,bb_g_id)\n",
    "bb_m.head()"
   ]
  },
  {
   "cell_type": "code",
   "execution_count": 5,
   "metadata": {},
   "outputs": [],
   "source": [
    "bb_m['recent_3'] = (bb_m['MONTHS_BALANCE'] >= bb_m['MONTHS_BALANC_MAX']-2) #新增欄位，並標示MONTHS_BALANCE是否為最近3期\n",
    "bb_m['recent_6'] = (bb_m['MONTHS_BALANCE'] >= bb_m['MONTHS_BALANC_MAX']-5) #新增欄位，並標示MONTHS_BALANCE是否為最近6期\n",
    "bb_m['recent_9'] = (bb_m['MONTHS_BALANCE'] >= bb_m['MONTHS_BALANC_MAX']-8) #新增欄位，並標示MONTHS_BALANCE是否為最近9期\n",
    "\n",
    "recent_3_status=bb_m[bb_m[\"recent_3\"]==True].sort_values(by=[\"SK_ID_BUREAU\"]) #新增表格，篩選最近3期MONTHS_BALANCE\n",
    "recent_6_status=bb_m[bb_m[\"recent_6\"]==True].sort_values(by=[\"SK_ID_BUREAU\"]) #新增表格，篩選最近6期MONTHS_BALANCE\n",
    "recent_9_status=bb_m[bb_m[\"recent_9\"]==True].sort_values(by=[\"SK_ID_BUREAU\"]) #新增表格，篩選最近9期MONTHS_BALANCE\n",
    "\n",
    "recent_3_status=pd.crosstab(recent_3_status['SK_ID_BUREAU'], recent_3_status['STATUS'],normalize=0) #列出最近3期STATUS的比例\n",
    "recent_6_status=pd.crosstab(recent_6_status['SK_ID_BUREAU'], recent_6_status['STATUS'],normalize=0) #列出最近6期STATUS的比例\n",
    "recent_9_status=pd.crosstab(recent_9_status['SK_ID_BUREAU'], recent_9_status['STATUS'],normalize=0) #列出最近9期STATUS的比例\n",
    "\n",
    "recent_3_status.rename(columns={'0':'recent_3_status_0%','1':'recent_3_status_1%','2':'recent_3_status_2%',\n",
    "                                '3':'recent_3_status_3%','4':'recent_3_status_4%','5':'recent_3_status_5%',\n",
    "                                'C':'recent_3_status_C%','X':'recent_3_status_X%'},inplace=True)  #更改最近3期欄位名稱\n",
    "recent_6_status.rename(columns={'0':'recent_6_status_0%','1':'recent_6_status_1%','2':'recent_6_status_2%',\n",
    "                                '3':'recent_6_status_3%','4':'recent_6_status_4%','5':'recent_6_status_5%',\n",
    "                                'C':'recent_6_status_C%','X':'recent_6_status_X%'},inplace=True)  #更改最近6期欄位名稱\n",
    "recent_9_status.rename(columns={'0':'recent_9_status_0%','1':'recent_9_status_1%','2':'recent_9_status_2%',\n",
    "                                '3':'recent_9_status_3%','4':'recent_9_status_4%','5':'recent_9_status_5%',\n",
    "                                'C':'recent_9_status_C%','X':'recent_9_status_X%'},inplace=True)  #更改最近9期欄位名稱\n"
   ]
  },
  {
   "cell_type": "code",
   "execution_count": 6,
   "metadata": {},
   "outputs": [],
   "source": [
    "recent_369_status=[recent_3_status,recent_6_status,recent_9_status]\n",
    "recent_369_status=pd.concat(recent_369_status,axis=1)\n",
    "recent_369_status.reset_index(level='SK_ID_BUREAU',inplace=True)"
   ]
  },
  {
   "cell_type": "code",
   "execution_count": 7,
   "metadata": {},
   "outputs": [],
   "source": [
    "bb2=pd.merge(total_status_count, recent_369_status)\n",
    "# bureau_balance_ETL_v2.to_csv('D:/project/homecredit/final/bureau_balance_ETL_v2',index = False)\n",
    "# bb2.to_csv('bureau_balance_ETL_v2.csv',index = False)"
   ]
  },
  {
   "cell_type": "code",
   "execution_count": 8,
   "metadata": {},
   "outputs": [],
   "source": [
    "bb_merge = pd.merge(bureau,bb2,how='outer')"
   ]
  },
  {
   "cell_type": "code",
   "execution_count": 9,
   "metadata": {},
   "outputs": [],
   "source": [
    "dict_type = {}\n",
    "for i in bb_merge.columns:\n",
    "        dict_type[i] = ['max','mean']\n",
    "num_aggregations = dict_type\n",
    "\n",
    "bureau_balance_ETL_v2 = bb_merge.groupby(['SK_ID_CURR']).agg({**num_aggregations})\n",
    "\n",
    "\n",
    "# 重新排列欄位\n",
    "columns = []\n",
    "\n",
    "for m in bureau_balance_ETL_v2 .columns.levels[0]:\n",
    "    for n in bureau_balance_ETL_v2 .columns.levels[1]:\n",
    "        columns.append(f'BU_{m}_{n}')\n",
    "        \n",
    "bureau_balance_ETL_v2 .columns = columns\n",
    "\n",
    "bureau_balance_ETL_v2 .reset_index(level=('SK_ID_CURR'),inplace=True)"
   ]
  },
  {
   "cell_type": "code",
   "execution_count": 10,
   "metadata": {},
   "outputs": [
    {
     "data": {
      "text/plain": [
       "(305811, 65)"
      ]
     },
     "execution_count": 10,
     "metadata": {},
     "output_type": "execute_result"
    }
   ],
   "source": [
    "bureau_balance_ETL_v2 = bureau_balance_ETL_v2.drop(columns=['BU_SK_ID_CURR_max', 'BU_SK_ID_CURR_mean',\n",
    "       'BU_SK_ID_BUREAU_max', 'BU_SK_ID_BUREAU_mean'])\n",
    "bureau_balance_ETL_v2.shape"
   ]
  },
  {
   "cell_type": "code",
   "execution_count": 11,
   "metadata": {},
   "outputs": [],
   "source": [
    "bureau_balance_ETL_v2.to_csv('D:/project/homecredit/final/bureau_balance_ETL_v2.csv',index = False)"
   ]
  }
 ],
 "metadata": {
  "kernelspec": {
   "display_name": "Python 3",
   "language": "python",
   "name": "python3"
  },
  "language_info": {
   "codemirror_mode": {
    "name": "ipython",
    "version": 3
   },
   "file_extension": ".py",
   "mimetype": "text/x-python",
   "name": "python",
   "nbconvert_exporter": "python",
   "pygments_lexer": "ipython3",
   "version": "3.9.16"
  }
 },
 "nbformat": 4,
 "nbformat_minor": 2
}
