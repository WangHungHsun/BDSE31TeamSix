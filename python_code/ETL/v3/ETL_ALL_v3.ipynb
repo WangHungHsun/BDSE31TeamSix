{
 "cells": [
  {
   "cell_type": "code",
   "execution_count": 1,
   "metadata": {},
   "outputs": [],
   "source": [
    "import numpy as np \n",
    "import pandas as pd \n",
    "import seaborn as sns\n",
    "import matplotlib.pyplot as plt\n",
    "from sklearn.ensemble import RandomForestRegressor\n",
    "from sklearn import preprocessing\n",
    "from sklearn.preprocessing import LabelEncoder\n",
    "from sklearn.impute import KNNImputer\n",
    "from sklearn.neighbors import KNeighborsClassifier\n",
    "from sklearn.model_selection import train_test_split\n",
    "from sklearn.preprocessing import StandardScaler"
   ]
  },
  {
   "cell_type": "code",
   "execution_count": 2,
   "metadata": {},
   "outputs": [],
   "source": [
    "all_v1=pd.read_csv('D:/project/homecredit/final/v1/train_all_v1.csv', index_col=0)\n",
    "train_v3 = pd.read_csv('D:/project/homecredit/final/v3/application_train_ETL_v3.csv')\n",
    "feature_importance= pd.read_csv('D:/project/homecredit/final/v3/feature_importance.csv', index_col=0)"
   ]
  },
  {
   "cell_type": "markdown",
   "metadata": {},
   "source": [
    "### all_v1只取v1衍生的欄位"
   ]
  },
  {
   "cell_type": "code",
   "execution_count": 3,
   "metadata": {},
   "outputs": [],
   "source": [
    "all_v1 = all_v1.iloc[:, 38:]"
   ]
  },
  {
   "cell_type": "code",
   "execution_count": 4,
   "metadata": {},
   "outputs": [
    {
     "data": {
      "text/plain": [
       "Index(['AMT_ANNUITY_CASH_LOANS_MEAN', 'AMT_APPLICATION_CASH_LOANS_MEAN',\n",
       "       'AMT_CREDIT_CASH_LOANS_MEAN', 'AMT_GOODS_PRICE_CASH_LOANS_MEAN',\n",
       "       'AMT_ANNUITY_CONSUMER_LOANS_MEAN',\n",
       "       'AMT_APPLICATION_CONSUMER_LOANS_MEAN', 'AMT_CREDIT_CONSUMER_LOANS_MEAN',\n",
       "       'AMT_GOODS_PRICE_CONSUMER_LOANS_MEAN',\n",
       "       'AMT_ANNUITY_REVOLVING_LOANS_MEAN',\n",
       "       'AMT_APPLICATION_REVOLVING_LOANS_MEAN',\n",
       "       'AMT_CREDIT_REVOLVING_LOANS_MEAN',\n",
       "       'AMT_GOODS_PRICE_REVOLVING_LOANS_MEAN', 'creditcard_high',\n",
       "       'creditcard_normal', 'creditcard_low', 'instalments_overdue_DAY_mean',\n",
       "       'instalments_overdue_AMT_mean', 'instalments_PERIOD',\n",
       "       'BUREAU_DAYS_CREDIT', 'BUREAU_DAYS_CREDIT_ENDDATE',\n",
       "       'BUREAU_DAYS_ENDDATE_FACT', 'CDCS_ratio', 'bureau_annuity_mean',\n",
       "       'bereau_balance_status'],\n",
       "      dtype='object')"
      ]
     },
     "execution_count": 4,
     "metadata": {},
     "output_type": "execute_result"
    }
   ],
   "source": [
    "all_v1.columns"
   ]
  },
  {
   "cell_type": "markdown",
   "metadata": {},
   "source": [
    "### 將train_v3,v1衍生的欄位, v3衍生的欄位合併"
   ]
  },
  {
   "cell_type": "code",
   "execution_count": 7,
   "metadata": {},
   "outputs": [],
   "source": [
    "all_v3 = pd.merge(train_v3,feature_importance,on=\"SK_ID_CURR\")\n",
    "all_v3 = pd.concat([all_v3,all_v1],axis=1)"
   ]
  },
  {
   "cell_type": "code",
   "execution_count": null,
   "metadata": {},
   "outputs": [],
   "source": [
    "all_v3.to_csv('D:/project/homecredit/final/v3/final_all_v3.csv',index = False)"
   ]
  }
 ],
 "metadata": {
  "kernelspec": {
   "display_name": "Python39",
   "language": "python",
   "name": "python3"
  },
  "language_info": {
   "codemirror_mode": {
    "name": "ipython",
    "version": 3
   },
   "file_extension": ".py",
   "mimetype": "text/x-python",
   "name": "python",
   "nbconvert_exporter": "python",
   "pygments_lexer": "ipython3",
   "version": "3.9.16"
  },
  "orig_nbformat": 4
 },
 "nbformat": 4,
 "nbformat_minor": 2
}
